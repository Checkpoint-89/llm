{
 "cells": [
  {
   "cell_type": "code",
   "execution_count": null,
   "metadata": {},
   "outputs": [],
   "source": [
    "# Generate the script to be later used to install conda on the Colab VM\n",
    "\n",
    "%%bash\n",
    "cat > conda.sh<< EOF\n",
    "# Launch this script in a terminal with: . conda.sh\n",
    "wget https://repo.anaconda.com/miniconda/Miniconda3-latest-Linux-x86_64.sh\n",
    "bash Miniconda3-latest-Linux-x86_64.sh -b -f -p /usr/local/miniconda\n",
    "rm Miniconda3-latest-Linux-x86_64.sh\n",
    "export PATH=/usr/local/miniconda/bin:\\$PATH\n",
    "EOF"
   ]
  },
  {
   "cell_type": "code",
   "execution_count": null,
   "metadata": {},
   "outputs": [],
   "source": [
    "# Generate the env.yml file to be later used as a example of conda environment\n",
    "\n",
    "%%bash\n",
    "cat > env.yml<< EOF\n",
    "# NOTES:\n",
    "# To avoid bugs with Ipykernel:\n",
    "#   google-colab is required:https://gist.github.com/ngrislain/c3ba6f687c64ce31adc6b0dff1b26d6a\n",
    "#   specific librairies are required: https://github.com/microsoft/vscode-jupyter/issues/7423\n",
    "\n",
    "name: colab\n",
    "\n",
    "channels:\n",
    "  - defaults\n",
    "  - conda-forge\n",
    "\n",
    "dependencies:\n",
    "  - python\n",
    "  - numpy\n",
    "  - google-colab\n",
    "  - traitlets=4.3.3\n",
    "  - pyzmq=19.0.2\n",
    "EOF"
   ]
  },
  {
   "cell_type": "code",
   "execution_count": null,
   "metadata": {},
   "outputs": [],
   "source": [
    "# Install vscode-server on colab an start it\n",
    "! curl -Lk 'https://code.visualstudio.com/sha/download?build=stable&os=cli-alpine-x64' --output vscode_cli.tar.gz\n",
    "! tar -xf vscode_cli.tar.gz\n",
    "! rm vscode_cli.tar.gz\n",
    "! ./code tunnel --accept-server-license-terms"
   ]
  }
 ],
 "metadata": {
  "kernelspec": {
   "display_name": "base",
   "language": "python",
   "name": "python3"
  },
  "language_info": {
   "codemirror_mode": {
    "name": "ipython",
    "version": 3
   },
   "file_extension": ".py",
   "mimetype": "text/x-python",
   "name": "python",
   "nbconvert_exporter": "python",
   "pygments_lexer": "ipython3",
   "version": "3.10.11"
  },
  "orig_nbformat": 4
 },
 "nbformat": 4,
 "nbformat_minor": 2
}
