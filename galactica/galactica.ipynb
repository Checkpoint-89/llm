{
 "cells": [
  {
   "cell_type": "code",
   "execution_count": 1,
   "metadata": {},
   "outputs": [
    {
     "name": "stderr",
     "output_type": "stream",
     "text": [
      "/opt/conda/envs/galactica/lib/python3.11/site-packages/tqdm/auto.py:21: TqdmWarning: IProgress not found. Please update jupyter and ipywidgets. See https://ipywidgets.readthedocs.io/en/stable/user_install.html\n",
      "  from .autonotebook import tqdm as notebook_tqdm\n"
     ]
    }
   ],
   "source": [
    "# Imports\n",
    "from importlib import reload\n",
    "import os\n",
    "import shutil\n",
    "from pathlib import Path\n",
    "import numpy as np\n",
    "import torch\n",
    "from datasets import load_from_disk, Dataset, DatasetDict\n",
    "from transformers import AutoTokenizer\n",
    "from transformers import AutoConfig\n",
    "from transformers import OPTForSequenceClassification\n",
    "from transformers import DataCollatorWithPadding\n",
    "from transformers import TrainingArguments\n",
    "from transformers import Trainer\n",
    "from accelerate import init_empty_weights, load_checkpoint_and_dispatch\n",
    "import evaluate\n",
    "\n",
    "import utils.preprocess_data\n",
    "reload(utils.preprocess_data)\n",
    "from utils.preprocess_data import preprocess_orig_data"
   ]
  },
  {
   "attachments": {},
   "cell_type": "markdown",
   "metadata": {},
   "source": [
    "#### Setup"
   ]
  },
  {
   "cell_type": "code",
   "execution_count": 8,
   "metadata": {},
   "outputs": [
    {
     "name": "stdout",
     "output_type": "stream",
     "text": [
      "\n",
      "Set-up completed\n"
     ]
    }
   ],
   "source": [
    "# Set up DL framework and device\n",
    "dl_framework = 'pt'\n",
    "\n",
    "is_gpu = torch.cuda.is_available()\n",
    "if is_gpu:\n",
    "    device = torch.device('cuda')\n",
    "else:\n",
    "    device = torch.device('cpu')\n",
    "\n",
    "# Set up file and dir paths\n",
    "clean = True # Whether to clean the raw data directory\n",
    "data_type = 'applications' # 'is_experimental' or 'applications'\n",
    "\n",
    "path_to_galactica_folder = Path(r'../galactica')\n",
    "\n",
    "if data_type == 'applications':\n",
    "    path_to_raw = Path(r'./data/raw_applications.json')\n",
    "elif data_type == 'is_experimental':\n",
    "    path_to_raw = Path(r'./data/raw_is_experimental.json')\n",
    "path_to_data = Path(path_to_galactica_folder, path_to_raw)\n",
    "\n",
    "path_to_state_dict = \"./state_dict/model_state_dict.pt\"\n",
    "path_to_state_dict = Path(path_to_state_dict)\n",
    "dir_to_state_dict = path_to_state_dict.parent\n",
    "shutil.rmtree(dir_to_state_dict, ignore_errors=True)\n",
    "os.mkdir(dir_to_state_dict)\n",
    "\n",
    "# Set up data\n",
    "preprocess = False\n",
    "subset_size = 1024\n",
    "\n",
    "# Set up model instanciation\n",
    "checkpoint = \"facebook/galactica-125m\"\n",
    "num_hidden_layers = 1\n",
    "print(\"\\nSet-up completed\")"
   ]
  },
  {
   "attachments": {},
   "cell_type": "markdown",
   "metadata": {},
   "source": [
    "#### Preprocess the data to Datasets"
   ]
  },
  {
   "cell_type": "code",
   "execution_count": 9,
   "metadata": {},
   "outputs": [],
   "source": [
    "# Preprocess the data to get raw data into /galactica/data\n",
    "if preprocess == True:\n",
    "    if data_type == 'applications':\n",
    "        path_to_orig = Path(r'./data/orig_applications.json')\n",
    "    elif data_type == 'is_experimental':\n",
    "        path_to_orig = Path(r'./data/orig_is_experimental.json')\n",
    "\n",
    "    preprocess_orig_data(str(path_to_galactica_folder), str(path_to_orig), clean=clean)"
   ]
  },
  {
   "attachments": {},
   "cell_type": "markdown",
   "metadata": {},
   "source": [
    "#### Load the data, model, tokenizer and tokenize"
   ]
  },
  {
   "cell_type": "code",
   "execution_count": 10,
   "metadata": {},
   "outputs": [
    {
     "name": "stdout",
     "output_type": "stream",
     "text": [
      "\n",
      "Dataset loaded:  DatasetDict({\n",
      "    train: Dataset({\n",
      "        features: ['_labels', 'id', 'title', 'text', 'labels'],\n",
      "        num_rows: 96044\n",
      "    })\n",
      "    test: Dataset({\n",
      "        features: ['_labels', 'id', 'title', 'text', 'labels'],\n",
      "        num_rows: 12005\n",
      "    })\n",
      "    validation: Dataset({\n",
      "        features: ['_labels', 'id', 'title', 'text', 'labels'],\n",
      "        num_rows: 12006\n",
      "    })\n",
      "})\n"
     ]
    },
    {
     "name": "stderr",
     "output_type": "stream",
     "text": [
      "                                                                    "
     ]
    },
    {
     "name": "stdout",
     "output_type": "stream",
     "text": [
      "\n",
      "Number of labels:  8\n"
     ]
    },
    {
     "name": "stderr",
     "output_type": "stream",
     "text": [
      "Some weights of the model checkpoint at facebook/galactica-125m were not used when initializing OPTForSequenceClassification: ['model.decoder.layers.5.self_attn_layer_norm.bias', 'model.decoder.layers.10.self_attn.q_proj.weight', 'model.decoder.layers.3.self_attn.v_proj.bias', 'model.decoder.layers.9.self_attn.k_proj.bias', 'model.decoder.layers.6.self_attn.v_proj.weight', 'model.decoder.layers.3.self_attn.k_proj.bias', 'model.decoder.layers.11.fc2.bias', 'model.decoder.layers.10.self_attn.out_proj.weight', 'model.decoder.layers.3.fc1.weight', 'model.decoder.layers.2.fc1.weight', 'model.decoder.layers.10.self_attn.k_proj.weight', 'model.decoder.layers.3.self_attn.out_proj.weight', 'model.decoder.layers.11.self_attn_layer_norm.weight', 'model.decoder.layers.11.fc2.weight', 'model.decoder.layers.4.self_attn_layer_norm.bias', 'model.decoder.layers.11.fc1.bias', 'model.decoder.layers.6.self_attn.q_proj.bias', 'model.decoder.layers.8.self_attn.v_proj.bias', 'model.decoder.layers.8.self_attn.out_proj.bias', 'model.decoder.layers.10.self_attn_layer_norm.bias', 'model.decoder.layers.9.self_attn.k_proj.weight', 'model.decoder.layers.4.self_attn.q_proj.weight', 'model.decoder.layers.3.fc1.bias', 'model.decoder.layers.6.final_layer_norm.weight', 'model.decoder.layers.2.self_attn.q_proj.bias', 'model.decoder.layers.6.self_attn.q_proj.weight', 'model.decoder.layers.2.self_attn.q_proj.weight', 'model.decoder.layers.5.fc1.weight', 'model.decoder.layers.5.final_layer_norm.bias', 'model.decoder.layers.5.fc1.bias', 'lm_head.weight', 'model.decoder.layers.5.self_attn.v_proj.weight', 'model.decoder.layers.9.self_attn.out_proj.weight', 'model.decoder.layers.2.self_attn.k_proj.bias', 'model.decoder.layers.7.self_attn_layer_norm.weight', 'model.decoder.layers.1.fc1.bias', 'model.decoder.layers.7.self_attn.q_proj.bias', 'model.decoder.layers.4.self_attn.q_proj.bias', 'model.decoder.layers.3.fc2.weight', 'model.decoder.layers.4.fc2.bias', 'model.decoder.layers.7.fc1.bias', 'model.decoder.layers.3.self_attn_layer_norm.bias', 'model.decoder.layers.6.self_attn.v_proj.bias', 'model.decoder.layers.8.final_layer_norm.weight', 'model.decoder.layers.6.self_attn.out_proj.weight', 'model.decoder.layers.5.fc2.bias', 'model.decoder.layers.4.final_layer_norm.bias', 'model.decoder.layers.5.self_attn.out_proj.bias', 'model.decoder.layers.11.fc1.weight', 'model.decoder.layers.6.fc1.bias', 'model.decoder.layers.1.self_attn.v_proj.weight', 'model.decoder.layers.8.fc2.bias', 'model.decoder.layers.1.final_layer_norm.weight', 'model.decoder.layers.9.self_attn.out_proj.bias', 'model.decoder.layers.2.fc2.weight', 'model.decoder.layers.9.self_attn.q_proj.weight', 'model.decoder.layers.10.self_attn.v_proj.bias', 'model.decoder.layers.6.fc1.weight', 'model.decoder.layers.10.final_layer_norm.bias', 'model.decoder.layers.4.fc2.weight', 'model.decoder.layers.2.self_attn.out_proj.weight', 'model.decoder.layers.9.fc2.bias', 'model.decoder.layers.2.self_attn.v_proj.bias', 'model.decoder.layers.7.fc1.weight', 'model.decoder.layers.5.final_layer_norm.weight', 'model.decoder.layers.11.final_layer_norm.bias', 'model.decoder.layers.9.fc1.bias', 'model.decoder.layers.2.final_layer_norm.bias', 'model.decoder.layers.1.self_attn.k_proj.bias', 'model.decoder.layers.10.fc2.bias', 'model.decoder.layers.8.self_attn.q_proj.bias', 'model.decoder.layers.7.fc2.bias', 'model.decoder.layers.5.self_attn.v_proj.bias', 'model.decoder.layers.7.fc2.weight', 'model.decoder.layers.2.fc1.bias', 'model.decoder.layers.9.final_layer_norm.bias', 'model.decoder.layers.3.self_attn.out_proj.bias', 'model.decoder.layers.8.self_attn.k_proj.bias', 'model.decoder.layers.4.self_attn.v_proj.weight', 'model.decoder.layers.7.self_attn_layer_norm.bias', 'model.decoder.layers.9.fc1.weight', 'model.decoder.layers.3.self_attn_layer_norm.weight', 'model.decoder.layers.8.fc1.bias', 'model.decoder.layers.11.self_attn.k_proj.bias', 'model.decoder.layers.9.self_attn.v_proj.bias', 'model.decoder.layers.1.fc1.weight', 'model.decoder.layers.6.self_attn.out_proj.bias', 'model.decoder.layers.11.self_attn.out_proj.weight', 'model.decoder.layers.4.self_attn.k_proj.weight', 'model.decoder.layers.7.self_attn.k_proj.weight', 'model.decoder.layers.4.self_attn.k_proj.bias', 'model.decoder.layers.1.final_layer_norm.bias', 'model.decoder.layers.1.self_attn.out_proj.bias', 'model.decoder.layers.3.self_attn.v_proj.weight', 'model.decoder.layers.5.self_attn.q_proj.bias', 'model.decoder.layers.10.fc1.bias', 'model.decoder.layers.1.self_attn.out_proj.weight', 'model.decoder.layers.5.self_attn_layer_norm.weight', 'model.decoder.layers.5.self_attn.out_proj.weight', 'model.decoder.layers.8.self_attn.q_proj.weight', 'model.decoder.layers.7.self_attn.v_proj.bias', 'model.decoder.layers.3.self_attn.q_proj.weight', 'model.decoder.layers.6.self_attn_layer_norm.weight', 'model.decoder.layers.9.self_attn.v_proj.weight', 'model.decoder.layers.2.final_layer_norm.weight', 'model.decoder.layers.8.self_attn.k_proj.weight', 'model.decoder.layers.3.self_attn.k_proj.weight', 'model.decoder.layers.6.fc2.weight', 'model.decoder.layers.7.self_attn.out_proj.weight', 'model.decoder.layers.6.self_attn.k_proj.bias', 'model.decoder.layers.4.self_attn.v_proj.bias', 'model.decoder.layers.3.self_attn.q_proj.bias', 'model.decoder.layers.10.fc1.weight', 'model.decoder.layers.7.final_layer_norm.bias', 'model.decoder.layers.10.self_attn.out_proj.bias', 'model.decoder.layers.8.self_attn_layer_norm.weight', 'model.decoder.layers.7.self_attn.k_proj.bias', 'model.decoder.layers.3.final_layer_norm.weight', 'model.decoder.layers.4.final_layer_norm.weight', 'model.decoder.layers.10.final_layer_norm.weight', 'model.decoder.layers.7.final_layer_norm.weight', 'model.decoder.layers.11.final_layer_norm.weight', 'model.decoder.layers.9.final_layer_norm.weight', 'model.decoder.layers.11.self_attn.v_proj.bias', 'model.decoder.layers.10.fc2.weight', 'model.decoder.layers.1.self_attn_layer_norm.weight', 'model.decoder.layers.11.self_attn.q_proj.bias', 'model.decoder.layers.6.fc2.bias', 'model.decoder.layers.1.self_attn.k_proj.weight', 'model.decoder.layers.6.self_attn.k_proj.weight', 'model.decoder.layers.7.self_attn.v_proj.weight', 'model.decoder.layers.5.self_attn.k_proj.weight', 'model.decoder.layers.10.self_attn.k_proj.bias', 'model.decoder.layers.10.self_attn.q_proj.bias', 'model.decoder.layers.9.fc2.weight', 'model.decoder.layers.2.self_attn.v_proj.weight', 'model.decoder.layers.9.self_attn_layer_norm.bias', 'model.decoder.layers.4.fc1.weight', 'model.decoder.layers.2.self_attn_layer_norm.bias', 'model.decoder.layers.2.self_attn_layer_norm.weight', 'model.decoder.layers.8.self_attn.v_proj.weight', 'model.decoder.layers.4.self_attn_layer_norm.weight', 'model.decoder.layers.11.self_attn.v_proj.weight', 'model.decoder.layers.8.self_attn.out_proj.weight', 'model.decoder.layers.6.self_attn_layer_norm.bias', 'model.decoder.layers.8.self_attn_layer_norm.bias', 'model.decoder.layers.11.self_attn.out_proj.bias', 'model.decoder.layers.8.final_layer_norm.bias', 'model.decoder.layers.1.self_attn_layer_norm.bias', 'model.decoder.layers.5.fc2.weight', 'model.decoder.layers.5.self_attn.q_proj.weight', 'model.decoder.layers.1.self_attn.q_proj.weight', 'model.decoder.layers.4.self_attn.out_proj.weight', 'model.decoder.layers.1.self_attn.v_proj.bias', 'model.decoder.layers.3.fc2.bias', 'model.decoder.layers.4.fc1.bias', 'model.decoder.layers.2.fc2.bias', 'model.decoder.layers.3.final_layer_norm.bias', 'model.decoder.layers.11.self_attn.q_proj.weight', 'model.decoder.layers.1.self_attn.q_proj.bias', 'model.decoder.layers.5.self_attn.k_proj.bias', 'model.decoder.layers.6.final_layer_norm.bias', 'model.decoder.layers.2.self_attn.out_proj.bias', 'model.decoder.layers.7.self_attn.out_proj.bias', 'model.decoder.layers.8.fc1.weight', 'model.decoder.layers.10.self_attn.v_proj.weight', 'model.decoder.layers.11.self_attn.k_proj.weight', 'model.decoder.layers.1.fc2.weight', 'model.decoder.layers.2.self_attn.k_proj.weight', 'model.decoder.layers.4.self_attn.out_proj.bias', 'model.decoder.layers.11.self_attn_layer_norm.bias', 'model.decoder.layers.9.self_attn_layer_norm.weight', 'model.decoder.layers.9.self_attn.q_proj.bias', 'model.decoder.layers.10.self_attn_layer_norm.weight', 'model.decoder.layers.1.fc2.bias', 'model.decoder.layers.8.fc2.weight', 'model.decoder.layers.7.self_attn.q_proj.weight']\n",
      "- This IS expected if you are initializing OPTForSequenceClassification from the checkpoint of a model trained on another task or with another architecture (e.g. initializing a BertForSequenceClassification model from a BertForPreTraining model).\n",
      "- This IS NOT expected if you are initializing OPTForSequenceClassification from the checkpoint of a model that you expect to be exactly identical (initializing a BertForSequenceClassification model from a BertForSequenceClassification model).\n",
      "Some weights of OPTForSequenceClassification were not initialized from the model checkpoint at facebook/galactica-125m and are newly initialized: ['score.weight']\n",
      "You should probably TRAIN this model on a down-stream task to be able to use it for predictions and inference.\n"
     ]
    },
    {
     "name": "stdout",
     "output_type": "stream",
     "text": [
      "\n",
      "Model instantiated\n",
      "\n",
      "Parameters frozen\n",
      "\n",
      "Max length =  768\n",
      "\n",
      "Tokenizer instantiated\n"
     ]
    },
    {
     "name": "stderr",
     "output_type": "stream",
     "text": [
      "                                                                 "
     ]
    },
    {
     "name": "stdout",
     "output_type": "stream",
     "text": [
      "\n",
      "Tokenized datasets:  DatasetDict({\n",
      "    train: Dataset({\n",
      "        features: ['_labels', 'id', 'title', 'text', 'labels', 'input_ids', 'token_type_ids', 'attention_mask'],\n",
      "        num_rows: 1024\n",
      "    })\n",
      "    test: Dataset({\n",
      "        features: ['_labels', 'id', 'title', 'text', 'labels', 'input_ids', 'token_type_ids', 'attention_mask'],\n",
      "        num_rows: 1024\n",
      "    })\n",
      "    validation: Dataset({\n",
      "        features: ['_labels', 'id', 'title', 'text', 'labels', 'input_ids', 'token_type_ids', 'attention_mask'],\n",
      "        num_rows: 1024\n",
      "    })\n",
      "})\n"
     ]
    },
    {
     "name": "stderr",
     "output_type": "stream",
     "text": [
      "\r"
     ]
    }
   ],
   "source": [
    "# Load the data\n",
    "raw_dataset = load_from_disk(str(path_to_data))\n",
    "print(\"\\nDataset loaded: \", raw_dataset)\n",
    "\n",
    "# Take a subset of raw_dataset\n",
    "# TODO: implement the following method, much more elegant\n",
    "# TODO: small_train_dataset = tokenized_datasets[\"train\"].shuffle(seed=42).select(range(200))\n",
    "ds_dict = dict()\n",
    "for split in raw_dataset:\n",
    "    ds = raw_dataset[split]\n",
    "    ds = Dataset.from_dict(ds[0:subset_size])\n",
    "    ds = ds.cast(raw_dataset[split].features)\n",
    "    ds_dict[split] = ds\n",
    "raw_dataset=DatasetDict(ds_dict)\n",
    "\n",
    "# Get the number of labels\n",
    "num_labels = len(raw_dataset['train'].features['labels'].names)\n",
    "print(\"\\nNumber of labels: \", num_labels)\n",
    "\n",
    "# Load the Model\n",
    "#TODO: understand how to properly instantiate the model when device.cuda == 'cuda'\n",
    "model = OPTForSequenceClassification.from_pretrained(checkpoint, num_labels=num_labels, num_hidden_layers=num_hidden_layers)\n",
    "state_dict = model.state_dict()\n",
    "torch.save(state_dict, str(path_to_state_dict))\n",
    "\n",
    "if device.type == 'cuda':\n",
    "    config = AutoConfig.from_pretrained(checkpoint, num_labels=num_labels, num_hidden_layers=num_hidden_layers)\n",
    "    with init_empty_weights():\n",
    "        model = OPTForSequenceClassification._from_config(config)\n",
    "    model.tie_weights()\n",
    "    no_split_module_classes = None #List of modules with any residual connection of some kind\n",
    "    model = load_checkpoint_and_dispatch(model, str(path_to_state_dict), device_map=\"auto\", no_split_module_classes=no_split_module_classes)\n",
    "print(\"\\nModel instantiated\")\n",
    "\n",
    "# Freeze the model but the last layer\n",
    "# TODO: how to programmatically get the name of the last layer\n",
    "for param in model.named_parameters():\n",
    "    if param[0] != 'score.weight':\n",
    "        param[1].requires_grad = False\n",
    "print(\"\\nParameters frozen\")\n",
    "\n",
    "# TODO: This is probably wrong, check what is the correct max_length\n",
    "max_length = model.config.word_embed_proj_dim\n",
    "print(\"\\nMax length = \", max_length)\n",
    "\n",
    "# Load the Tokenizer\n",
    "tokenizer = AutoTokenizer.from_pretrained(checkpoint, use_fast=True) # use_fast is recommended to be False, set to True for testing purposes\n",
    "# use_fast argument; check https://huggingface.co/docs/transformers/model_doc/opt#overview\n",
    "id2label = {i: label for label, i in tokenizer.vocab.items()}\n",
    "pad_token_id = model.config.pad_token_id\n",
    "tokenizer.add_special_tokens({'pad_token': id2label[pad_token_id]})\n",
    "print(\"\\nTokenizer instantiated\")\n",
    "\n",
    "def tokenize_function(sequences):\n",
    "    return tokenizer(sequences['text'], max_length=max_length, truncation=True)\n",
    "\n",
    "#TODO: save the tokenized datasets to disk\n",
    "tokenized_datasets = raw_dataset.map(tokenize_function , batched=True)\n",
    "print(\"\\nTokenized datasets: \", tokenized_datasets)"
   ]
  },
  {
   "attachments": {},
   "cell_type": "markdown",
   "metadata": {},
   "source": [
    "#### Define the training parameters"
   ]
  },
  {
   "cell_type": "code",
   "execution_count": 59,
   "metadata": {},
   "outputs": [
    {
     "name": "stderr",
     "output_type": "stream",
     "text": [
      "PyTorch: setting up devices\n",
      "The default value for the training argument `--report_to` will change in v5 (from all installed integrations to none). In v5, you will need to use `--report_to all` to get the same behavior as now. You should start updating your code and make this info disappear :-).\n"
     ]
    },
    {
     "name": "stdout",
     "output_type": "stream",
     "text": [
      "\n",
      "DataCollator instantiated\n",
      "\n",
      "TrainingArguments instantiated\n",
      "\n",
      "Cleaning done\n",
      "\n",
      "Trainer instantiated\n"
     ]
    }
   ],
   "source": [
    "# Define the data collator\n",
    "data_collator = DataCollatorWithPadding(tokenizer=tokenizer)\n",
    "print(\"\\nDataCollator instantiated\")\n",
    "\n",
    "# Define the TrainingArguments and Trainer\n",
    "# Default parameters in comments, first in the sequence of options\n",
    "training_args = TrainingArguments(\n",
    "    output_dir=\"./test-trainer\",\n",
    "    overwrite_output_dir=False, # False\n",
    "    num_train_epochs=3, # 3\n",
    "    per_device_train_batch_size=64, # 8\n",
    "    per_device_eval_batch_size=64, # 8\n",
    "    gradient_accumulation_steps=1, # 1\n",
    "    learning_rate=5e-5, # 5e-5\n",
    "    weight_decay=0, # 0\n",
    "    warmup_steps=0, # 0\n",
    "    evaluation_strategy='epoch', # 'no', 'epoch', 'steps'\n",
    "    log_level='info', # 'passive''debug', 'info', 'warning', 'error' and 'critical' \n",
    "    log_level_replica='info', # same log_level\n",
    "    log_on_each_node=True,\n",
    "    #logging_dir // keep default output_dir/runs/CURRENT_DATETIME_HOSTNAME\n",
    "    logging_first_step=True,\n",
    "    logging_steps=16,\n",
    "    logging_nan_inf_filter=True,\n",
    "    logging_strategy = 'epoch', # 'steps', others: 'no', 'epoch'\n",
    "    save_strategy='steps', # 'steps', others: 'no', 'epoch' # checkpoint save strategy\n",
    "    save_steps=16,\n",
    "    save_total_limit = 10, #max number of checkpoints\n",
    "    run_name = 'test_run',\n",
    "    )\n",
    "print(\"\\nTrainingArguments instantiated\")\n",
    "\n",
    "# Cleaning\n",
    "import gc\n",
    "gc.collect()\n",
    "\n",
    "import torch\n",
    "torch.cuda.empty_cache()\n",
    "print(\"\\nCleaning done\")\n",
    "\n",
    "# Define the evaluation metrics\n",
    "def compute_metrics(eval_pred, average = 'macro', # average in [None, 'micro', 'macro', 'weighted']\n",
    "                    # accuracy_metric = evaluate.load('accuracy'),\n",
    "                    # f1_metric = evaluate.load('f1'),\n",
    "                    # precision_metric = evaluate.load('precision'),\n",
    "                    # recall_metric = evaluate.load('recall')\n",
    "):\n",
    "\n",
    "    f1_metric = evaluate.load('f1')\n",
    "    # recall_metric = evaluate.load('recall')\n",
    "    accuracy_metric = evaluate.load('accuracy')\n",
    "    logits, labels = eval_pred\n",
    "    preds = np.argmax(logits, axis = -1)\n",
    "    results = {}\n",
    "    results.update(accuracy_metric.compute(predictions=preds, references=labels))\n",
    "    results.update(f1_metric.compute(predictions=preds, references=labels, average=average))\n",
    "    # results.update(precision_metric.compute(predictions=preds, references=labels, average=average))\n",
    "    # results.update(recall_metric.compute(predictions=preds, references=labels, average=average))\n",
    "    # results = f1_metric.compute(predictions=preds, references=labels, average=average)\n",
    "    return results \n",
    "\n",
    "\n",
    "import logging\n",
    "import sys\n",
    "import datasets, transformers\n",
    "logger = logging.getLogger(__name__)\n",
    "# Setup logging\n",
    "logging.basicConfig(\n",
    "    format=\"%(asctime)s - %(levelname)s - %(name)s - %(message)s\",\n",
    "    datefmt=\"%m/%d/%Y %H:%M:%S\",\n",
    "    handlers=[logging.StreamHandler(sys.stdout)],\n",
    ")\n",
    "# set the main code and the modules it uses to the same log-level according to the node\n",
    "log_level = training_args.get_process_log_level()\n",
    "logger.setLevel(log_level)\n",
    "datasets.utils.logging.set_verbosity(log_level)\n",
    "transformers.utils.logging.set_verbosity(log_level)\n",
    "\n",
    "\n",
    "\n",
    "\n",
    "# Define the Trainer\n",
    "trainer = Trainer(\n",
    "    model=model,\n",
    "    args=training_args,\n",
    "    train_dataset=tokenized_datasets[\"train\"],\n",
    "    eval_dataset=tokenized_datasets[\"validation\"],\n",
    "    data_collator=data_collator,\n",
    "    tokenizer=tokenizer,\n",
    "    compute_metrics=compute_metrics,\n",
    ")\n",
    "print(\"\\nTrainer instantiated\")"
   ]
  },
  {
   "attachments": {},
   "cell_type": "markdown",
   "metadata": {},
   "source": [
    "#### Train"
   ]
  },
  {
   "cell_type": "code",
   "execution_count": 60,
   "metadata": {},
   "outputs": [
    {
     "name": "stderr",
     "output_type": "stream",
     "text": [
      "The following columns in the training set don't have a corresponding argument in `OPTForSequenceClassification.forward` and have been ignored: id, token_type_ids, title, text, _labels. If id, token_type_ids, title, text, _labels are not expected by `OPTForSequenceClassification.forward`,  you can safely ignore this message.\n",
      "/opt/conda/envs/galactica/lib/python3.11/site-packages/transformers/optimization.py:391: FutureWarning: This implementation of AdamW is deprecated and will be removed in a future version. Use the PyTorch implementation torch.optim.AdamW instead, or set `no_deprecation_warning=True` to disable this warning\n",
      "  warnings.warn(\n",
      "***** Running training *****\n",
      "  Num examples = 1,024\n",
      "  Num Epochs = 3\n",
      "  Instantaneous batch size per device = 64\n",
      "  Total train batch size (w. parallel, distributed & accumulation) = 64\n",
      "  Gradient Accumulation steps = 1\n",
      "  Total optimization steps = 48\n",
      "  Number of trainable parameters = 6,144\n"
     ]
    },
    {
     "data": {
      "text/html": [
       "\n",
       "    <div>\n",
       "      \n",
       "      <progress value='49' max='48' style='width:300px; height:20px; vertical-align: middle;'></progress>\n",
       "      [48/48 00:28, Epoch 3/3]\n",
       "    </div>\n",
       "    <table border=\"1\" class=\"dataframe\">\n",
       "  <thead>\n",
       " <tr style=\"text-align: left;\">\n",
       "      <th>Epoch</th>\n",
       "      <th>Training Loss</th>\n",
       "      <th>Validation Loss</th>\n",
       "      <th>Accuracy</th>\n",
       "      <th>F1</th>\n",
       "    </tr>\n",
       "  </thead>\n",
       "  <tbody>\n",
       "    <tr>\n",
       "      <td>1</td>\n",
       "      <td>1.573800</td>\n",
       "      <td>1.605371</td>\n",
       "      <td>0.428711</td>\n",
       "      <td>0.180759</td>\n",
       "    </tr>\n",
       "    <tr>\n",
       "      <td>2</td>\n",
       "      <td>1.584200</td>\n",
       "      <td>1.603199</td>\n",
       "      <td>0.425781</td>\n",
       "      <td>0.177828</td>\n",
       "    </tr>\n",
       "  </tbody>\n",
       "</table><p>\n",
       "    <div>\n",
       "      \n",
       "      <progress value='16' max='16' style='width:300px; height:20px; vertical-align: middle;'></progress>\n",
       "      [16/16 00:04]\n",
       "    </div>\n",
       "    "
      ],
      "text/plain": [
       "<IPython.core.display.HTML object>"
      ]
     },
     "metadata": {},
     "output_type": "display_data"
    },
    {
     "name": "stderr",
     "output_type": "stream",
     "text": [
      "Saving model checkpoint to ./test-trainer/checkpoint-16\n",
      "Configuration saved in ./test-trainer/checkpoint-16/config.json\n",
      "Configuration saved in ./test-trainer/checkpoint-16/config.json\n",
      "Model weights saved in ./test-trainer/checkpoint-16/pytorch_model.bin\n",
      "tokenizer config file saved in ./test-trainer/checkpoint-16/tokenizer_config.json\n",
      "Special tokens file saved in ./test-trainer/checkpoint-16/special_tokens_map.json\n",
      "The following columns in the evaluation set don't have a corresponding argument in `OPTForSequenceClassification.forward` and have been ignored: id, token_type_ids, title, text, _labels. If id, token_type_ids, title, text, _labels are not expected by `OPTForSequenceClassification.forward`,  you can safely ignore this message.\n",
      "***** Running Evaluation *****\n",
      "  Num examples = 1024\n",
      "  Batch size = 64\n",
      "Saving model checkpoint to ./test-trainer/checkpoint-32\n",
      "Configuration saved in ./test-trainer/checkpoint-32/config.json\n",
      "Saving model checkpoint to ./test-trainer/checkpoint-32\n",
      "Configuration saved in ./test-trainer/checkpoint-32/config.json\n",
      "Model weights saved in ./test-trainer/checkpoint-32/pytorch_model.bin\n",
      "tokenizer config file saved in ./test-trainer/checkpoint-32/tokenizer_config.json\n",
      "Special tokens file saved in ./test-trainer/checkpoint-32/special_tokens_map.json\n",
      "The following columns in the evaluation set don't have a corresponding argument in `OPTForSequenceClassification.forward` and have been ignored: id, token_type_ids, title, text, _labels. If id, token_type_ids, title, text, _labels are not expected by `OPTForSequenceClassification.forward`,  you can safely ignore this message.\n",
      "***** Running Evaluation *****\n",
      "  Num examples = 1024\n",
      "  Batch size = 64\n",
      "Saving model checkpoint to ./test-trainer/checkpoint-48\n",
      "Configuration saved in ./test-trainer/checkpoint-48/config.json\n",
      "Saving model checkpoint to ./test-trainer/checkpoint-48\n",
      "Configuration saved in ./test-trainer/checkpoint-48/config.json\n",
      "Model weights saved in ./test-trainer/checkpoint-48/pytorch_model.bin\n",
      "tokenizer config file saved in ./test-trainer/checkpoint-48/tokenizer_config.json\n",
      "Special tokens file saved in ./test-trainer/checkpoint-48/special_tokens_map.json\n",
      "The following columns in the evaluation set don't have a corresponding argument in `OPTForSequenceClassification.forward` and have been ignored: id, token_type_ids, title, text, _labels. If id, token_type_ids, title, text, _labels are not expected by `OPTForSequenceClassification.forward`,  you can safely ignore this message.\n",
      "***** Running Evaluation *****\n",
      "  Num examples = 1024\n",
      "  Batch size = 64\n"
     ]
    },
    {
     "data": {
      "text/plain": [
       "TrainOutput(global_step=48, training_loss=1.5783667042851448, metrics={'train_runtime': 35.8761, 'train_samples_per_second': 85.628, 'train_steps_per_second': 1.338, 'total_flos': 98306886205440.0, 'train_loss': 1.5783667042851448, 'epoch': 3.0})"
      ]
     },
     "execution_count": 60,
     "metadata": {},
     "output_type": "execute_result"
    }
   ],
   "source": [
    "output = trainer.train()\n",
    "output"
   ]
  },
  {
   "cell_type": "code",
   "execution_count": null,
   "metadata": {},
   "outputs": [],
   "source": []
  }
 ],
 "metadata": {
  "kernelspec": {
   "display_name": "galactica",
   "language": "python",
   "name": "python3"
  },
  "language_info": {
   "codemirror_mode": {
    "name": "ipython",
    "version": 3
   },
   "file_extension": ".py",
   "mimetype": "text/x-python",
   "name": "python",
   "nbconvert_exporter": "python",
   "pygments_lexer": "ipython3",
   "version": "3.11.3"
  },
  "orig_nbformat": 4
 },
 "nbformat": 4,
 "nbformat_minor": 2
}
