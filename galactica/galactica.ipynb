{
 "cells": [
  {
   "cell_type": "code",
   "execution_count": 1,
   "metadata": {},
   "outputs": [
    {
     "name": "stderr",
     "output_type": "stream",
     "text": [
      "/opt/conda/envs/galactica/lib/python3.11/site-packages/tqdm/auto.py:21: TqdmWarning: IProgress not found. Please update jupyter and ipywidgets. See https://ipywidgets.readthedocs.io/en/stable/user_install.html\n",
      "  from .autonotebook import tqdm as notebook_tqdm\n"
     ]
    }
   ],
   "source": [
    "# Imports\n",
    "from importlib import reload\n",
    "import os\n",
    "import shutil\n",
    "from pathlib import Path\n",
    "import numpy as np\n",
    "import torch\n",
    "from datasets import load_from_disk, Dataset, DatasetDict\n",
    "from transformers import AutoTokenizer\n",
    "from transformers import AutoConfig\n",
    "from transformers import OPTForSequenceClassification\n",
    "from transformers import DataCollatorWithPadding\n",
    "from transformers import TrainingArguments\n",
    "from transformers import Trainer\n",
    "from accelerate import init_empty_weights, load_checkpoint_and_dispatch\n",
    "import evaluate\n",
    "\n",
    "import utils.preprocess_data\n",
    "reload(utils.preprocess_data)\n",
    "from utils.preprocess_data import preprocess_orig_data"
   ]
  },
  {
   "attachments": {},
   "cell_type": "markdown",
   "metadata": {},
   "source": [
    "#### Setup"
   ]
  },
  {
   "cell_type": "code",
   "execution_count": 2,
   "metadata": {},
   "outputs": [
    {
     "name": "stdout",
     "output_type": "stream",
     "text": [
      "\n",
      "Set-up completed\n"
     ]
    }
   ],
   "source": [
    "# Set up DL framework and device\n",
    "dl_framework = 'pt'\n",
    "\n",
    "is_gpu = torch.cuda.is_available()\n",
    "if is_gpu:\n",
    "    device = torch.device('cuda')\n",
    "else:\n",
    "    device = torch.device('cpu')\n",
    "\n",
    "# Set up file and dir paths\n",
    "clean = True # Whether to clean the raw data directory\n",
    "data_type = 'applications' # 'is_experimental' or 'applications'\n",
    "\n",
    "path_to_galactica_folder = Path(r'../galactica')\n",
    "\n",
    "if data_type == 'applications':\n",
    "    path_to_raw = Path(r'./data/raw_applications.json')\n",
    "elif data_type == 'is_experimental':\n",
    "    path_to_raw = Path(r'./data/raw_is_experimental.json')\n",
    "path_to_data = Path(path_to_galactica_folder, path_to_raw)\n",
    "\n",
    "path_to_state_dict = \"./state_dict/model_state_dict.pt\"\n",
    "path_to_state_dict = Path(path_to_state_dict)\n",
    "dir_to_state_dict = path_to_state_dict.parent\n",
    "shutil.rmtree(dir_to_state_dict, ignore_errors=True)\n",
    "os.mkdir(dir_to_state_dict)\n",
    "\n",
    "# Set up data\n",
    "preprocess = False\n",
    "subset_size = 512\n",
    "\n",
    "# Set up model instanciation\n",
    "checkpoint = \"facebook/galactica-125m\"\n",
    "num_hidden_layers = 1\n",
    "print(\"\\nSet-up completed\")"
   ]
  },
  {
   "attachments": {},
   "cell_type": "markdown",
   "metadata": {},
   "source": [
    "#### Preprocess the data to Datasets"
   ]
  },
  {
   "cell_type": "code",
   "execution_count": 3,
   "metadata": {},
   "outputs": [
    {
     "name": "stderr",
     "output_type": "stream",
     "text": [
      "Found cached dataset json (/home/cedric.dietzi/.cache/huggingface/datasets/json/default-14e53905d1432555/0.0.0/e347ab1c932092252e717ff3f949105a4dd28b27e842dd53157d2f72e276c2e4)\n",
      "100%|██████████| 1/1 [00:00<00:00, 301.73it/s]\n",
      "                                                                                                 \r"
     ]
    }
   ],
   "source": [
    "# Preprocess the data to get raw data into /galactica/data\n",
    "if preprocess == True:\n",
    "    if data_type == 'applications':\n",
    "        path_to_orig = Path(r'./data/orig_applications.json')\n",
    "    elif data_type == 'is_experimental':\n",
    "        path_to_orig = Path(r'./data/orig_is_experimental.json')\n",
    "\n",
    "    preprocess_orig_data(str(path_to_galactica_folder), str(path_to_orig), clean=clean)"
   ]
  },
  {
   "attachments": {},
   "cell_type": "markdown",
   "metadata": {},
   "source": [
    "#### Load the data, model, tokenizer and tokenize"
   ]
  },
  {
   "cell_type": "code",
   "execution_count": 5,
   "metadata": {},
   "outputs": [
    {
     "name": "stdout",
     "output_type": "stream",
     "text": [
      "\n",
      "Dataset loaded:  DatasetDict({\n",
      "    train: Dataset({\n",
      "        features: ['_labels', 'id', 'title', 'text', 'labels'],\n",
      "        num_rows: 96044\n",
      "    })\n",
      "    test: Dataset({\n",
      "        features: ['_labels', 'id', 'title', 'text', 'labels'],\n",
      "        num_rows: 12005\n",
      "    })\n",
      "    validation: Dataset({\n",
      "        features: ['_labels', 'id', 'title', 'text', 'labels'],\n",
      "        num_rows: 12006\n",
      "    })\n",
      "})\n"
     ]
    },
    {
     "name": "stderr",
     "output_type": "stream",
     "text": [
      "                                                                   "
     ]
    },
    {
     "name": "stdout",
     "output_type": "stream",
     "text": [
      "\n",
      "Number of labels:  8\n"
     ]
    },
    {
     "name": "stderr",
     "output_type": "stream",
     "text": [
      "Some weights of the model checkpoint at facebook/galactica-125m were not used when initializing OPTForSequenceClassification: ['model.decoder.layers.9.self_attn.q_proj.weight', 'model.decoder.layers.5.fc1.weight', 'model.decoder.layers.5.self_attn.out_proj.weight', 'model.decoder.layers.10.self_attn.q_proj.weight', 'model.decoder.layers.8.self_attn.out_proj.weight', 'model.decoder.layers.8.self_attn.q_proj.bias', 'model.decoder.layers.1.self_attn.q_proj.weight', 'model.decoder.layers.8.self_attn.k_proj.bias', 'model.decoder.layers.11.self_attn.k_proj.weight', 'model.decoder.layers.6.self_attn.out_proj.weight', 'model.decoder.layers.7.fc1.bias', 'model.decoder.layers.11.final_layer_norm.weight', 'model.decoder.layers.10.self_attn_layer_norm.weight', 'model.decoder.layers.1.fc2.bias', 'model.decoder.layers.3.self_attn.q_proj.bias', 'model.decoder.layers.8.self_attn.k_proj.weight', 'model.decoder.layers.9.self_attn_layer_norm.bias', 'model.decoder.layers.11.self_attn.out_proj.bias', 'model.decoder.layers.3.final_layer_norm.weight', 'model.decoder.layers.1.self_attn_layer_norm.weight', 'model.decoder.layers.11.self_attn.v_proj.bias', 'model.decoder.layers.9.self_attn.v_proj.bias', 'model.decoder.layers.2.self_attn.out_proj.bias', 'model.decoder.layers.9.self_attn.v_proj.weight', 'model.decoder.layers.6.self_attn.v_proj.bias', 'model.decoder.layers.4.self_attn.k_proj.bias', 'model.decoder.layers.7.self_attn.q_proj.bias', 'model.decoder.layers.11.fc2.bias', 'model.decoder.layers.5.self_attn.q_proj.weight', 'model.decoder.layers.6.self_attn.v_proj.weight', 'model.decoder.layers.6.self_attn.out_proj.bias', 'model.decoder.layers.7.self_attn.k_proj.bias', 'model.decoder.layers.9.fc1.weight', 'model.decoder.layers.4.self_attn_layer_norm.weight', 'model.decoder.layers.8.self_attn.out_proj.bias', 'model.decoder.layers.3.fc1.bias', 'model.decoder.layers.9.self_attn.q_proj.bias', 'model.decoder.layers.2.fc1.bias', 'model.decoder.layers.10.self_attn.q_proj.bias', 'model.decoder.layers.5.self_attn_layer_norm.weight', 'model.decoder.layers.2.self_attn.q_proj.bias', 'model.decoder.layers.1.self_attn.out_proj.weight', 'model.decoder.layers.7.self_attn.v_proj.weight', 'model.decoder.layers.8.fc1.weight', 'model.decoder.layers.9.self_attn.k_proj.weight', 'model.decoder.layers.10.fc2.weight', 'model.decoder.layers.10.self_attn_layer_norm.bias', 'model.decoder.layers.4.self_attn.k_proj.weight', 'model.decoder.layers.2.fc2.bias', 'model.decoder.layers.11.self_attn.q_proj.bias', 'model.decoder.layers.6.self_attn.k_proj.weight', 'lm_head.weight', 'model.decoder.layers.5.fc2.bias', 'model.decoder.layers.11.self_attn_layer_norm.bias', 'model.decoder.layers.3.self_attn.v_proj.weight', 'model.decoder.layers.3.self_attn.k_proj.weight', 'model.decoder.layers.7.self_attn.q_proj.weight', 'model.decoder.layers.5.fc2.weight', 'model.decoder.layers.2.self_attn.v_proj.weight', 'model.decoder.layers.5.self_attn.k_proj.weight', 'model.decoder.layers.7.self_attn.k_proj.weight', 'model.decoder.layers.4.self_attn.out_proj.weight', 'model.decoder.layers.3.self_attn.out_proj.bias', 'model.decoder.layers.2.self_attn.k_proj.weight', 'model.decoder.layers.10.self_attn.out_proj.weight', 'model.decoder.layers.7.self_attn_layer_norm.bias', 'model.decoder.layers.7.final_layer_norm.weight', 'model.decoder.layers.2.self_attn_layer_norm.bias', 'model.decoder.layers.8.final_layer_norm.bias', 'model.decoder.layers.9.self_attn.out_proj.bias', 'model.decoder.layers.10.self_attn.k_proj.bias', 'model.decoder.layers.11.self_attn_layer_norm.weight', 'model.decoder.layers.1.fc1.bias', 'model.decoder.layers.2.final_layer_norm.bias', 'model.decoder.layers.4.final_layer_norm.weight', 'model.decoder.layers.4.fc1.bias', 'model.decoder.layers.9.fc1.bias', 'model.decoder.layers.3.self_attn.q_proj.weight', 'model.decoder.layers.1.self_attn.v_proj.weight', 'model.decoder.layers.10.self_attn.v_proj.bias', 'model.decoder.layers.10.self_attn.out_proj.bias', 'model.decoder.layers.2.self_attn.q_proj.weight', 'model.decoder.layers.5.final_layer_norm.weight', 'model.decoder.layers.6.fc1.bias', 'model.decoder.layers.1.self_attn.v_proj.bias', 'model.decoder.layers.4.fc2.weight', 'model.decoder.layers.7.self_attn.v_proj.bias', 'model.decoder.layers.11.fc1.bias', 'model.decoder.layers.6.fc1.weight', 'model.decoder.layers.1.self_attn.k_proj.bias', 'model.decoder.layers.8.self_attn.v_proj.weight', 'model.decoder.layers.4.fc1.weight', 'model.decoder.layers.5.self_attn.v_proj.weight', 'model.decoder.layers.3.self_attn_layer_norm.weight', 'model.decoder.layers.7.self_attn_layer_norm.weight', 'model.decoder.layers.10.final_layer_norm.bias', 'model.decoder.layers.3.self_attn.v_proj.bias', 'model.decoder.layers.6.self_attn.q_proj.bias', 'model.decoder.layers.2.self_attn.out_proj.weight', 'model.decoder.layers.8.final_layer_norm.weight', 'model.decoder.layers.11.self_attn.v_proj.weight', 'model.decoder.layers.11.final_layer_norm.bias', 'model.decoder.layers.5.self_attn.k_proj.bias', 'model.decoder.layers.11.fc2.weight', 'model.decoder.layers.1.final_layer_norm.bias', 'model.decoder.layers.6.final_layer_norm.bias', 'model.decoder.layers.7.fc1.weight', 'model.decoder.layers.8.fc2.weight', 'model.decoder.layers.6.self_attn.k_proj.bias', 'model.decoder.layers.5.self_attn.out_proj.bias', 'model.decoder.layers.6.fc2.bias', 'model.decoder.layers.9.self_attn.out_proj.weight', 'model.decoder.layers.8.self_attn_layer_norm.bias', 'model.decoder.layers.4.fc2.bias', 'model.decoder.layers.9.self_attn.k_proj.bias', 'model.decoder.layers.2.self_attn_layer_norm.weight', 'model.decoder.layers.2.self_attn.v_proj.bias', 'model.decoder.layers.4.final_layer_norm.bias', 'model.decoder.layers.9.fc2.weight', 'model.decoder.layers.7.fc2.weight', 'model.decoder.layers.4.self_attn.out_proj.bias', 'model.decoder.layers.6.fc2.weight', 'model.decoder.layers.1.self_attn_layer_norm.bias', 'model.decoder.layers.2.final_layer_norm.weight', 'model.decoder.layers.1.fc2.weight', 'model.decoder.layers.5.self_attn.v_proj.bias', 'model.decoder.layers.1.self_attn.q_proj.bias', 'model.decoder.layers.9.final_layer_norm.weight', 'model.decoder.layers.9.fc2.bias', 'model.decoder.layers.4.self_attn.q_proj.bias', 'model.decoder.layers.1.self_attn.k_proj.weight', 'model.decoder.layers.5.self_attn.q_proj.bias', 'model.decoder.layers.10.self_attn.v_proj.weight', 'model.decoder.layers.5.final_layer_norm.bias', 'model.decoder.layers.1.self_attn.out_proj.bias', 'model.decoder.layers.6.final_layer_norm.weight', 'model.decoder.layers.1.fc1.weight', 'model.decoder.layers.11.self_attn.k_proj.bias', 'model.decoder.layers.5.self_attn_layer_norm.bias', 'model.decoder.layers.3.fc2.bias', 'model.decoder.layers.2.fc1.weight', 'model.decoder.layers.4.self_attn.v_proj.bias', 'model.decoder.layers.11.self_attn.out_proj.weight', 'model.decoder.layers.3.self_attn_layer_norm.bias', 'model.decoder.layers.4.self_attn.v_proj.weight', 'model.decoder.layers.7.final_layer_norm.bias', 'model.decoder.layers.8.self_attn_layer_norm.weight', 'model.decoder.layers.10.final_layer_norm.weight', 'model.decoder.layers.1.final_layer_norm.weight', 'model.decoder.layers.3.self_attn.out_proj.weight', 'model.decoder.layers.11.fc1.weight', 'model.decoder.layers.2.self_attn.k_proj.bias', 'model.decoder.layers.4.self_attn.q_proj.weight', 'model.decoder.layers.3.fc1.weight', 'model.decoder.layers.9.self_attn_layer_norm.weight', 'model.decoder.layers.10.self_attn.k_proj.weight', 'model.decoder.layers.7.self_attn.out_proj.bias', 'model.decoder.layers.10.fc1.weight', 'model.decoder.layers.9.final_layer_norm.bias', 'model.decoder.layers.8.self_attn.v_proj.bias', 'model.decoder.layers.7.self_attn.out_proj.weight', 'model.decoder.layers.6.self_attn_layer_norm.weight', 'model.decoder.layers.8.fc1.bias', 'model.decoder.layers.6.self_attn_layer_norm.bias', 'model.decoder.layers.5.fc1.bias', 'model.decoder.layers.4.self_attn_layer_norm.bias', 'model.decoder.layers.3.final_layer_norm.bias', 'model.decoder.layers.8.self_attn.q_proj.weight', 'model.decoder.layers.8.fc2.bias', 'model.decoder.layers.6.self_attn.q_proj.weight', 'model.decoder.layers.10.fc1.bias', 'model.decoder.layers.3.self_attn.k_proj.bias', 'model.decoder.layers.7.fc2.bias', 'model.decoder.layers.11.self_attn.q_proj.weight', 'model.decoder.layers.3.fc2.weight', 'model.decoder.layers.10.fc2.bias', 'model.decoder.layers.2.fc2.weight']\n",
      "- This IS expected if you are initializing OPTForSequenceClassification from the checkpoint of a model trained on another task or with another architecture (e.g. initializing a BertForSequenceClassification model from a BertForPreTraining model).\n",
      "- This IS NOT expected if you are initializing OPTForSequenceClassification from the checkpoint of a model that you expect to be exactly identical (initializing a BertForSequenceClassification model from a BertForSequenceClassification model).\n",
      "Some weights of OPTForSequenceClassification were not initialized from the model checkpoint at facebook/galactica-125m and are newly initialized: ['score.weight']\n",
      "You should probably TRAIN this model on a down-stream task to be able to use it for predictions and inference.\n"
     ]
    },
    {
     "name": "stdout",
     "output_type": "stream",
     "text": [
      "\n",
      "Model instantiated\n",
      "\n",
      "Parameters frozen\n",
      "\n",
      "Max length =  768\n",
      "\n",
      "Tokenizer instantiated\n"
     ]
    },
    {
     "name": "stderr",
     "output_type": "stream",
     "text": [
      "                                                               "
     ]
    },
    {
     "name": "stdout",
     "output_type": "stream",
     "text": [
      "\n",
      "Tokenized datasets:  DatasetDict({\n",
      "    train: Dataset({\n",
      "        features: ['_labels', 'id', 'title', 'text', 'labels', 'input_ids', 'token_type_ids', 'attention_mask'],\n",
      "        num_rows: 512\n",
      "    })\n",
      "    test: Dataset({\n",
      "        features: ['_labels', 'id', 'title', 'text', 'labels', 'input_ids', 'token_type_ids', 'attention_mask'],\n",
      "        num_rows: 512\n",
      "    })\n",
      "    validation: Dataset({\n",
      "        features: ['_labels', 'id', 'title', 'text', 'labels', 'input_ids', 'token_type_ids', 'attention_mask'],\n",
      "        num_rows: 512\n",
      "    })\n",
      "})\n"
     ]
    },
    {
     "name": "stderr",
     "output_type": "stream",
     "text": [
      "\r"
     ]
    }
   ],
   "source": [
    "# Load the data\n",
    "raw_dataset = load_from_disk(str(path_to_data))\n",
    "print(\"\\nDataset loaded: \", raw_dataset)\n",
    "\n",
    "# Take a subset of raw_dataset\n",
    "# TODO: implement the following method, much more elegant\n",
    "# TODO: small_train_dataset = tokenized_datasets[\"train\"].shuffle(seed=42).select(range(200))\n",
    "ds_dict = dict()\n",
    "for split in raw_dataset:\n",
    "    ds = raw_dataset[split]\n",
    "    ds = Dataset.from_dict(ds[0:subset_size])\n",
    "    ds = ds.cast(raw_dataset[split].features)\n",
    "    ds_dict[split] = ds\n",
    "raw_dataset=DatasetDict(ds_dict)\n",
    "\n",
    "# Get the number of labels\n",
    "num_labels = len(raw_dataset['train'].features['labels'].names)\n",
    "print(\"\\nNumber of labels: \", num_labels)\n",
    "\n",
    "# Load the Model\n",
    "#TODO: understand how to properly instantiate the model when device.cuda == 'cuda'\n",
    "model = OPTForSequenceClassification.from_pretrained(checkpoint, num_labels=num_labels, num_hidden_layers=num_hidden_layers)\n",
    "state_dict = model.state_dict()\n",
    "torch.save(state_dict, str(path_to_state_dict))\n",
    "\n",
    "if device.type == 'cuda':\n",
    "    config = AutoConfig.from_pretrained(checkpoint, num_labels=num_labels, num_hidden_layers=num_hidden_layers)\n",
    "    with init_empty_weights():\n",
    "        model = OPTForSequenceClassification._from_config(config)\n",
    "    model.tie_weights()\n",
    "    no_split_module_classes = None #List of modules with any residual connection of some kind\n",
    "    model = load_checkpoint_and_dispatch(model, str(path_to_state_dict), device_map=\"auto\", no_split_module_classes=no_split_module_classes)\n",
    "print(\"\\nModel instantiated\")\n",
    "\n",
    "# Freeze the model but the last layer\n",
    "# TODO: how to programmatically get the name of the last layer\n",
    "for param in model.named_parameters():\n",
    "    if param[0] != 'score.weight':\n",
    "        param[1].requires_grad = False\n",
    "print(\"\\nParameters frozen\")\n",
    "\n",
    "# TODO: This is probably wrong, check what is the correct max_length\n",
    "max_length = model.config.word_embed_proj_dim\n",
    "print(\"\\nMax length = \", max_length)\n",
    "\n",
    "# Load the Tokenizer\n",
    "tokenizer = AutoTokenizer.from_pretrained(checkpoint, use_fast=True) # use_fast is recommended to be False, set to True for testing purposes\n",
    "# use_fast argument; check https://huggingface.co/docs/transformers/model_doc/opt#overview\n",
    "id2label = {i: label for label, i in tokenizer.vocab.items()}\n",
    "pad_token_id = model.config.pad_token_id\n",
    "tokenizer.add_special_tokens({'pad_token': id2label[pad_token_id]})\n",
    "print(\"\\nTokenizer instantiated\")\n",
    "\n",
    "def tokenize_function(sequences):\n",
    "    return tokenizer(sequences['text'], max_length=max_length, truncation=True)\n",
    "\n",
    "#TODO: save the tokenized datasets to disk\n",
    "tokenized_datasets = raw_dataset.map(tokenize_function , batched=True)\n",
    "print(\"\\nTokenized datasets: \", tokenized_datasets)"
   ]
  },
  {
   "attachments": {},
   "cell_type": "markdown",
   "metadata": {},
   "source": [
    "#### Define the training parameters"
   ]
  },
  {
   "cell_type": "code",
   "execution_count": 39,
   "metadata": {},
   "outputs": [
    {
     "data": {
      "text/plain": [
       "{'accuracy': 0.3333333333333333}"
      ]
     },
     "execution_count": 39,
     "metadata": {},
     "output_type": "execute_result"
    }
   ],
   "source": [
    "eval_pred = ([[0.5, 0.2, 0.6], [0.2, 0.9, 0.2], [0.1,0.0,0.0]], [1,1,2])\n",
    "logits, labels = eval_pred\n",
    "preds = np.argmax(logits, axis = -1)\n",
    "accuracy_metric = evaluate.load('accuracy')\n",
    "accuracy_metric.compute(predictions=preds, references = labels)"
   ]
  },
  {
   "cell_type": "code",
   "execution_count": null,
   "metadata": {},
   "outputs": [],
   "source": [
    "accuracy_metric = evaluate.load('accuracy'), \n",
    "f1_metric = evaluate.load('f1', average='micro'), \n",
    "precision_metric = evaluate.load('precision', average='micro'), \n",
    "recall_metric = evaluate.load('recall', average='micro')\n",
    "\n",
    "accuracy_metric = evaluate.load('accuracy'), \n",
    "f1_metric = evaluate.load('f1'), \n",
    "precision_metric = evaluate.load('precision'), \n",
    "recall_metric = evaluate.load('recall')\n",
    "\n",
    "def compute_metrics(eval_pred):\n",
    "\n",
    "    results = {}\n",
    "    eval_pred = ([[0.5, 0.2, 0.6], [0.2, 0.9, 0.2], [0.1,0.0,0.0]], [1,1,2])\n",
    "    logits, labels = eval_pred\n",
    "    preds = np.argmax(logits, axis = -1)\n",
    "    r = accuracy_metric.compute(predictions=preds, references = labels)\n",
    "    results.append(r)\n",
    "    # results = {}\n",
    "    # results.update(accuracy_metric.compute(predictions=preds, references = labels))\n",
    "    # results.update(f1_metric.compute(predictions=preds, references = labels, average=\"micro\"))\n",
    "    # results.update(precision_metric.compute(predictions=preds, references = labels, average=\"micro\"))\n",
    "    # results.update(recall_metric.compute(predictions=preds, references = labels, average=\"micro\"))\n",
    "    return results\n",
    "\n",
    "eval_pred = ([[0.5, 0.2, 0.6], [0.2, 0.9, 0.2], [0.1,0.0,0.0]], [1,1,2])\n",
    "\n",
    "compute_metrics(eval_pred)\n"
   ]
  },
  {
   "cell_type": "code",
   "execution_count": 19,
   "metadata": {},
   "outputs": [
    {
     "name": "stdout",
     "output_type": "stream",
     "text": [
      "\n",
      "DataCollator instantiated\n",
      "\n",
      "TrainingArguments instantiated\n",
      "\n",
      "Cleaning done\n",
      "\n",
      "Trainer instantiated\n"
     ]
    }
   ],
   "source": [
    "# Define the data collator\n",
    "data_collator = DataCollatorWithPadding(tokenizer=tokenizer)\n",
    "print(\"\\nDataCollator instantiated\")\n",
    "\n",
    "# Define the TrainingArguments and Trainer\n",
    "# Default parameters in comments\n",
    "training_args = TrainingArguments(\n",
    "    output_dir = \"test-trainer\",\n",
    "    overwrite_output_dir = False, # False\n",
    "    do_train = True,\n",
    "    do_eval = True,\n",
    "    num_train_epochs = 3, # 3\n",
    "    per_device_train_batch_size = 64, # 8\n",
    "    per_device_eval_batch_size = 64, # 8\n",
    "    gradient_accumulation_steps = 1, # 1\n",
    "    learning_rate = 5e-5, # 5e-5\n",
    "    weight_decay = 0, # 0\n",
    "    warmup_steps = 0, # 0\n",
    "    evaluation_strategy = 'epoch', # 'no' by default, others: 'epoch', 'steps'\n",
    "    )\n",
    "print(\"\\nTrainingArguments instantiated\")\n",
    "\n",
    "# Cleaning\n",
    "import gc\n",
    "gc.collect()\n",
    "\n",
    "import torch\n",
    "torch.cuda.empty_cache()\n",
    "print(\"\\nCleaning done\")\n",
    "\n",
    "# Define the evaluation metrics\n",
    "def compute_metrics(eval_preds):\n",
    "    metrics = evaluate.load(\"accuracy\")\n",
    "    metrics=evaluate.combine([\"accuracy\", \"recall\", \"precision\", \"f1\"], av)\n",
    "    logits, labels = eval_preds\n",
    "    predictions = np.argmax(logits, axis=-1)\n",
    "    return metrics.compute(predictions=predictions, references=labels, average=\"weighted\") # average in [None, 'micro', 'macro', 'weighted']\n",
    "\n",
    "# Define the Trainer\n",
    "trainer = Trainer(\n",
    "    model=model,\n",
    "    args=training_args,\n",
    "    train_dataset=tokenized_datasets[\"train\"],\n",
    "    eval_dataset=tokenized_datasets[\"validation\"],\n",
    "    data_collator=data_collator,\n",
    "    tokenizer=tokenizer,\n",
    "    compute_metrics=compute_metrics,\n",
    ")\n",
    "print(\"\\nTrainer instantiated\")"
   ]
  },
  {
   "attachments": {},
   "cell_type": "markdown",
   "metadata": {},
   "source": [
    "#### Train"
   ]
  },
  {
   "cell_type": "code",
   "execution_count": 20,
   "metadata": {},
   "outputs": [
    {
     "name": "stderr",
     "output_type": "stream",
     "text": [
      "/opt/conda/envs/galactica/lib/python3.11/site-packages/transformers/optimization.py:391: FutureWarning: This implementation of AdamW is deprecated and will be removed in a future version. Use the PyTorch implementation torch.optim.AdamW instead, or set `no_deprecation_warning=True` to disable this warning\n",
      "  warnings.warn(\n"
     ]
    },
    {
     "data": {
      "text/html": [
       "\n",
       "    <div>\n",
       "      \n",
       "      <progress value='9' max='24' style='width:300px; height:20px; vertical-align: middle;'></progress>\n",
       "      [ 9/24 00:02 < 00:04, 3.23 it/s, Epoch 1/3]\n",
       "    </div>\n",
       "    <table border=\"1\" class=\"dataframe\">\n",
       "  <thead>\n",
       " <tr style=\"text-align: left;\">\n",
       "      <th>Epoch</th>\n",
       "      <th>Training Loss</th>\n",
       "      <th>Validation Loss</th>\n",
       "    </tr>\n",
       "  </thead>\n",
       "  <tbody>\n",
       "  </tbody>\n",
       "</table><p>\n",
       "    <div>\n",
       "      \n",
       "      <progress value='8' max='8' style='width:300px; height:20px; vertical-align: middle;'></progress>\n",
       "      [8/8 00:01]\n",
       "    </div>\n",
       "    "
      ],
      "text/plain": [
       "<IPython.core.display.HTML object>"
      ]
     },
     "metadata": {},
     "output_type": "display_data"
    },
    {
     "ename": "ValueError",
     "evalue": "Target is multiclass but average='binary'. Please choose another average setting, one of [None, 'micro', 'macro', 'weighted'].",
     "output_type": "error",
     "traceback": [
      "\u001b[0;31m---------------------------------------------------------------------------\u001b[0m",
      "\u001b[0;31mValueError\u001b[0m                                Traceback (most recent call last)",
      "Cell \u001b[0;32mIn[20], line 1\u001b[0m\n\u001b[0;32m----> 1\u001b[0m output \u001b[39m=\u001b[39m trainer\u001b[39m.\u001b[39;49mtrain()\n\u001b[1;32m      2\u001b[0m output\n",
      "File \u001b[0;32m/opt/conda/envs/galactica/lib/python3.11/site-packages/transformers/trainer.py:1662\u001b[0m, in \u001b[0;36mTrainer.train\u001b[0;34m(self, resume_from_checkpoint, trial, ignore_keys_for_eval, **kwargs)\u001b[0m\n\u001b[1;32m   1657\u001b[0m     \u001b[39mself\u001b[39m\u001b[39m.\u001b[39mmodel_wrapped \u001b[39m=\u001b[39m \u001b[39mself\u001b[39m\u001b[39m.\u001b[39mmodel\n\u001b[1;32m   1659\u001b[0m inner_training_loop \u001b[39m=\u001b[39m find_executable_batch_size(\n\u001b[1;32m   1660\u001b[0m     \u001b[39mself\u001b[39m\u001b[39m.\u001b[39m_inner_training_loop, \u001b[39mself\u001b[39m\u001b[39m.\u001b[39m_train_batch_size, args\u001b[39m.\u001b[39mauto_find_batch_size\n\u001b[1;32m   1661\u001b[0m )\n\u001b[0;32m-> 1662\u001b[0m \u001b[39mreturn\u001b[39;00m inner_training_loop(\n\u001b[1;32m   1663\u001b[0m     args\u001b[39m=\u001b[39;49margs,\n\u001b[1;32m   1664\u001b[0m     resume_from_checkpoint\u001b[39m=\u001b[39;49mresume_from_checkpoint,\n\u001b[1;32m   1665\u001b[0m     trial\u001b[39m=\u001b[39;49mtrial,\n\u001b[1;32m   1666\u001b[0m     ignore_keys_for_eval\u001b[39m=\u001b[39;49mignore_keys_for_eval,\n\u001b[1;32m   1667\u001b[0m )\n",
      "File \u001b[0;32m/opt/conda/envs/galactica/lib/python3.11/site-packages/transformers/trainer.py:2021\u001b[0m, in \u001b[0;36mTrainer._inner_training_loop\u001b[0;34m(self, batch_size, args, resume_from_checkpoint, trial, ignore_keys_for_eval)\u001b[0m\n\u001b[1;32m   2018\u001b[0m     \u001b[39mself\u001b[39m\u001b[39m.\u001b[39mcontrol\u001b[39m.\u001b[39mshould_training_stop \u001b[39m=\u001b[39m \u001b[39mTrue\u001b[39;00m\n\u001b[1;32m   2020\u001b[0m \u001b[39mself\u001b[39m\u001b[39m.\u001b[39mcontrol \u001b[39m=\u001b[39m \u001b[39mself\u001b[39m\u001b[39m.\u001b[39mcallback_handler\u001b[39m.\u001b[39mon_epoch_end(args, \u001b[39mself\u001b[39m\u001b[39m.\u001b[39mstate, \u001b[39mself\u001b[39m\u001b[39m.\u001b[39mcontrol)\n\u001b[0;32m-> 2021\u001b[0m \u001b[39mself\u001b[39;49m\u001b[39m.\u001b[39;49m_maybe_log_save_evaluate(tr_loss, model, trial, epoch, ignore_keys_for_eval)\n\u001b[1;32m   2023\u001b[0m \u001b[39mif\u001b[39;00m DebugOption\u001b[39m.\u001b[39mTPU_METRICS_DEBUG \u001b[39min\u001b[39;00m \u001b[39mself\u001b[39m\u001b[39m.\u001b[39margs\u001b[39m.\u001b[39mdebug:\n\u001b[1;32m   2024\u001b[0m     \u001b[39mif\u001b[39;00m is_torch_tpu_available():\n\u001b[1;32m   2025\u001b[0m         \u001b[39m# tpu-comment: Logging debug metrics for PyTorch/XLA (compile, execute times, ops, etc.)\u001b[39;00m\n",
      "File \u001b[0;32m/opt/conda/envs/galactica/lib/python3.11/site-packages/transformers/trainer.py:2287\u001b[0m, in \u001b[0;36mTrainer._maybe_log_save_evaluate\u001b[0;34m(self, tr_loss, model, trial, epoch, ignore_keys_for_eval)\u001b[0m\n\u001b[1;32m   2285\u001b[0m             metrics\u001b[39m.\u001b[39mupdate(dataset_metrics)\n\u001b[1;32m   2286\u001b[0m     \u001b[39melse\u001b[39;00m:\n\u001b[0;32m-> 2287\u001b[0m         metrics \u001b[39m=\u001b[39m \u001b[39mself\u001b[39;49m\u001b[39m.\u001b[39;49mevaluate(ignore_keys\u001b[39m=\u001b[39;49mignore_keys_for_eval)\n\u001b[1;32m   2288\u001b[0m     \u001b[39mself\u001b[39m\u001b[39m.\u001b[39m_report_to_hp_search(trial, \u001b[39mself\u001b[39m\u001b[39m.\u001b[39mstate\u001b[39m.\u001b[39mglobal_step, metrics)\n\u001b[1;32m   2290\u001b[0m \u001b[39mif\u001b[39;00m \u001b[39mself\u001b[39m\u001b[39m.\u001b[39mcontrol\u001b[39m.\u001b[39mshould_save:\n",
      "File \u001b[0;32m/opt/conda/envs/galactica/lib/python3.11/site-packages/transformers/trainer.py:2993\u001b[0m, in \u001b[0;36mTrainer.evaluate\u001b[0;34m(self, eval_dataset, ignore_keys, metric_key_prefix)\u001b[0m\n\u001b[1;32m   2990\u001b[0m start_time \u001b[39m=\u001b[39m time\u001b[39m.\u001b[39mtime()\n\u001b[1;32m   2992\u001b[0m eval_loop \u001b[39m=\u001b[39m \u001b[39mself\u001b[39m\u001b[39m.\u001b[39mprediction_loop \u001b[39mif\u001b[39;00m \u001b[39mself\u001b[39m\u001b[39m.\u001b[39margs\u001b[39m.\u001b[39muse_legacy_prediction_loop \u001b[39melse\u001b[39;00m \u001b[39mself\u001b[39m\u001b[39m.\u001b[39mevaluation_loop\n\u001b[0;32m-> 2993\u001b[0m output \u001b[39m=\u001b[39m eval_loop(\n\u001b[1;32m   2994\u001b[0m     eval_dataloader,\n\u001b[1;32m   2995\u001b[0m     description\u001b[39m=\u001b[39;49m\u001b[39m\"\u001b[39;49m\u001b[39mEvaluation\u001b[39;49m\u001b[39m\"\u001b[39;49m,\n\u001b[1;32m   2996\u001b[0m     \u001b[39m# No point gathering the predictions if there are no metrics, otherwise we defer to\u001b[39;49;00m\n\u001b[1;32m   2997\u001b[0m     \u001b[39m# self.args.prediction_loss_only\u001b[39;49;00m\n\u001b[1;32m   2998\u001b[0m     prediction_loss_only\u001b[39m=\u001b[39;49m\u001b[39mTrue\u001b[39;49;00m \u001b[39mif\u001b[39;49;00m \u001b[39mself\u001b[39;49m\u001b[39m.\u001b[39;49mcompute_metrics \u001b[39mis\u001b[39;49;00m \u001b[39mNone\u001b[39;49;00m \u001b[39melse\u001b[39;49;00m \u001b[39mNone\u001b[39;49;00m,\n\u001b[1;32m   2999\u001b[0m     ignore_keys\u001b[39m=\u001b[39;49mignore_keys,\n\u001b[1;32m   3000\u001b[0m     metric_key_prefix\u001b[39m=\u001b[39;49mmetric_key_prefix,\n\u001b[1;32m   3001\u001b[0m )\n\u001b[1;32m   3003\u001b[0m total_batch_size \u001b[39m=\u001b[39m \u001b[39mself\u001b[39m\u001b[39m.\u001b[39margs\u001b[39m.\u001b[39meval_batch_size \u001b[39m*\u001b[39m \u001b[39mself\u001b[39m\u001b[39m.\u001b[39margs\u001b[39m.\u001b[39mworld_size\n\u001b[1;32m   3004\u001b[0m \u001b[39mif\u001b[39;00m \u001b[39mf\u001b[39m\u001b[39m\"\u001b[39m\u001b[39m{\u001b[39;00mmetric_key_prefix\u001b[39m}\u001b[39;00m\u001b[39m_jit_compilation_time\u001b[39m\u001b[39m\"\u001b[39m \u001b[39min\u001b[39;00m output\u001b[39m.\u001b[39mmetrics:\n",
      "File \u001b[0;32m/opt/conda/envs/galactica/lib/python3.11/site-packages/transformers/trainer.py:3281\u001b[0m, in \u001b[0;36mTrainer.evaluation_loop\u001b[0;34m(self, dataloader, description, prediction_loss_only, ignore_keys, metric_key_prefix)\u001b[0m\n\u001b[1;32m   3277\u001b[0m         metrics \u001b[39m=\u001b[39m \u001b[39mself\u001b[39m\u001b[39m.\u001b[39mcompute_metrics(\n\u001b[1;32m   3278\u001b[0m             EvalPrediction(predictions\u001b[39m=\u001b[39mall_preds, label_ids\u001b[39m=\u001b[39mall_labels, inputs\u001b[39m=\u001b[39mall_inputs)\n\u001b[1;32m   3279\u001b[0m         )\n\u001b[1;32m   3280\u001b[0m     \u001b[39melse\u001b[39;00m:\n\u001b[0;32m-> 3281\u001b[0m         metrics \u001b[39m=\u001b[39m \u001b[39mself\u001b[39;49m\u001b[39m.\u001b[39;49mcompute_metrics(EvalPrediction(predictions\u001b[39m=\u001b[39;49mall_preds, label_ids\u001b[39m=\u001b[39;49mall_labels))\n\u001b[1;32m   3282\u001b[0m \u001b[39melse\u001b[39;00m:\n\u001b[1;32m   3283\u001b[0m     metrics \u001b[39m=\u001b[39m {}\n",
      "Cell \u001b[0;32mIn[19], line 37\u001b[0m, in \u001b[0;36mcompute_metrics\u001b[0;34m(eval_preds)\u001b[0m\n\u001b[1;32m     35\u001b[0m logits, labels \u001b[39m=\u001b[39m eval_preds\n\u001b[1;32m     36\u001b[0m predictions \u001b[39m=\u001b[39m np\u001b[39m.\u001b[39margmax(logits, axis\u001b[39m=\u001b[39m\u001b[39m-\u001b[39m\u001b[39m1\u001b[39m)\n\u001b[0;32m---> 37\u001b[0m \u001b[39mreturn\u001b[39;00m metrics\u001b[39m.\u001b[39;49mcompute(predictions\u001b[39m=\u001b[39;49mpredictions, references\u001b[39m=\u001b[39;49mlabels, average\u001b[39m=\u001b[39;49m\u001b[39m\"\u001b[39;49m\u001b[39mweighted\u001b[39;49m\u001b[39m\"\u001b[39;49m)\n",
      "File \u001b[0;32m/opt/conda/envs/galactica/lib/python3.11/site-packages/evaluate/module.py:862\u001b[0m, in \u001b[0;36mCombinedEvaluations.compute\u001b[0;34m(self, predictions, references, **kwargs)\u001b[0m\n\u001b[1;32m    860\u001b[0m     batch \u001b[39m=\u001b[39m {\u001b[39m\"\u001b[39m\u001b[39mpredictions\u001b[39m\u001b[39m\"\u001b[39m: predictions, \u001b[39m\"\u001b[39m\u001b[39mreferences\u001b[39m\u001b[39m\"\u001b[39m: references, \u001b[39m*\u001b[39m\u001b[39m*\u001b[39mkwargs}\n\u001b[1;32m    861\u001b[0m     batch \u001b[39m=\u001b[39m {input_name: batch[input_name] \u001b[39mfor\u001b[39;00m input_name \u001b[39min\u001b[39;00m evaluation_module\u001b[39m.\u001b[39m_feature_names()}\n\u001b[0;32m--> 862\u001b[0m     results\u001b[39m.\u001b[39mappend(evaluation_module\u001b[39m.\u001b[39;49mcompute(\u001b[39m*\u001b[39;49m\u001b[39m*\u001b[39;49mbatch))\n\u001b[1;32m    864\u001b[0m \u001b[39mreturn\u001b[39;00m \u001b[39mself\u001b[39m\u001b[39m.\u001b[39m_merge_results(results)\n",
      "File \u001b[0;32m/opt/conda/envs/galactica/lib/python3.11/site-packages/evaluate/module.py:444\u001b[0m, in \u001b[0;36mEvaluationModule.compute\u001b[0;34m(self, predictions, references, **kwargs)\u001b[0m\n\u001b[1;32m    442\u001b[0m inputs \u001b[39m=\u001b[39m {input_name: \u001b[39mself\u001b[39m\u001b[39m.\u001b[39mdata[input_name] \u001b[39mfor\u001b[39;00m input_name \u001b[39min\u001b[39;00m \u001b[39mself\u001b[39m\u001b[39m.\u001b[39m_feature_names()}\n\u001b[1;32m    443\u001b[0m \u001b[39mwith\u001b[39;00m temp_seed(\u001b[39mself\u001b[39m\u001b[39m.\u001b[39mseed):\n\u001b[0;32m--> 444\u001b[0m     output \u001b[39m=\u001b[39m \u001b[39mself\u001b[39;49m\u001b[39m.\u001b[39;49m_compute(\u001b[39m*\u001b[39;49m\u001b[39m*\u001b[39;49minputs, \u001b[39m*\u001b[39;49m\u001b[39m*\u001b[39;49mcompute_kwargs)\n\u001b[1;32m    446\u001b[0m \u001b[39mif\u001b[39;00m \u001b[39mself\u001b[39m\u001b[39m.\u001b[39mbuf_writer \u001b[39mis\u001b[39;00m \u001b[39mnot\u001b[39;00m \u001b[39mNone\u001b[39;00m:\n\u001b[1;32m    447\u001b[0m     \u001b[39mself\u001b[39m\u001b[39m.\u001b[39mbuf_writer \u001b[39m=\u001b[39m \u001b[39mNone\u001b[39;00m\n",
      "File \u001b[0;32m~/.cache/huggingface/modules/evaluate_modules/metrics/evaluate-metric--recall/e40e6e98d18ff3f210f4d0b26fa721bfaa80704b1fdf890fa551cfabf94fc185/recall.py:126\u001b[0m, in \u001b[0;36mRecall._compute\u001b[0;34m(self, predictions, references, labels, pos_label, average, sample_weight, zero_division)\u001b[0m\n\u001b[1;32m    116\u001b[0m \u001b[39mdef\u001b[39;00m \u001b[39m_compute\u001b[39m(\n\u001b[1;32m    117\u001b[0m     \u001b[39mself\u001b[39m,\n\u001b[1;32m    118\u001b[0m     predictions,\n\u001b[0;32m   (...)\u001b[0m\n\u001b[1;32m    124\u001b[0m     zero_division\u001b[39m=\u001b[39m\u001b[39m\"\u001b[39m\u001b[39mwarn\u001b[39m\u001b[39m\"\u001b[39m,\n\u001b[1;32m    125\u001b[0m ):\n\u001b[0;32m--> 126\u001b[0m     score \u001b[39m=\u001b[39m recall_score(\n\u001b[1;32m    127\u001b[0m         references,\n\u001b[1;32m    128\u001b[0m         predictions,\n\u001b[1;32m    129\u001b[0m         labels\u001b[39m=\u001b[39;49mlabels,\n\u001b[1;32m    130\u001b[0m         pos_label\u001b[39m=\u001b[39;49mpos_label,\n\u001b[1;32m    131\u001b[0m         average\u001b[39m=\u001b[39;49maverage,\n\u001b[1;32m    132\u001b[0m         sample_weight\u001b[39m=\u001b[39;49msample_weight,\n\u001b[1;32m    133\u001b[0m         zero_division\u001b[39m=\u001b[39;49mzero_division,\n\u001b[1;32m    134\u001b[0m     )\n\u001b[1;32m    135\u001b[0m     \u001b[39mreturn\u001b[39;00m {\u001b[39m\"\u001b[39m\u001b[39mrecall\u001b[39m\u001b[39m\"\u001b[39m: \u001b[39mfloat\u001b[39m(score) \u001b[39mif\u001b[39;00m score\u001b[39m.\u001b[39msize \u001b[39m==\u001b[39m \u001b[39m1\u001b[39m \u001b[39melse\u001b[39;00m score}\n",
      "File \u001b[0;32m/opt/conda/envs/galactica/lib/python3.11/site-packages/sklearn/metrics/_classification.py:2098\u001b[0m, in \u001b[0;36mrecall_score\u001b[0;34m(y_true, y_pred, labels, pos_label, average, sample_weight, zero_division)\u001b[0m\n\u001b[1;32m   1967\u001b[0m \u001b[39mdef\u001b[39;00m \u001b[39mrecall_score\u001b[39m(\n\u001b[1;32m   1968\u001b[0m     y_true,\n\u001b[1;32m   1969\u001b[0m     y_pred,\n\u001b[0;32m   (...)\u001b[0m\n\u001b[1;32m   1975\u001b[0m     zero_division\u001b[39m=\u001b[39m\u001b[39m\"\u001b[39m\u001b[39mwarn\u001b[39m\u001b[39m\"\u001b[39m,\n\u001b[1;32m   1976\u001b[0m ):\n\u001b[1;32m   1977\u001b[0m \u001b[39m    \u001b[39m\u001b[39m\"\"\"Compute the recall.\u001b[39;00m\n\u001b[1;32m   1978\u001b[0m \n\u001b[1;32m   1979\u001b[0m \u001b[39m    The recall is the ratio ``tp / (tp + fn)`` where ``tp`` is the number of\u001b[39;00m\n\u001b[0;32m   (...)\u001b[0m\n\u001b[1;32m   2096\u001b[0m \u001b[39m    array([1. , 1. , 0.5])\u001b[39;00m\n\u001b[1;32m   2097\u001b[0m \u001b[39m    \"\"\"\u001b[39;00m\n\u001b[0;32m-> 2098\u001b[0m     _, r, _, _ \u001b[39m=\u001b[39m precision_recall_fscore_support(\n\u001b[1;32m   2099\u001b[0m         y_true,\n\u001b[1;32m   2100\u001b[0m         y_pred,\n\u001b[1;32m   2101\u001b[0m         labels\u001b[39m=\u001b[39;49mlabels,\n\u001b[1;32m   2102\u001b[0m         pos_label\u001b[39m=\u001b[39;49mpos_label,\n\u001b[1;32m   2103\u001b[0m         average\u001b[39m=\u001b[39;49maverage,\n\u001b[1;32m   2104\u001b[0m         warn_for\u001b[39m=\u001b[39;49m(\u001b[39m\"\u001b[39;49m\u001b[39mrecall\u001b[39;49m\u001b[39m\"\u001b[39;49m,),\n\u001b[1;32m   2105\u001b[0m         sample_weight\u001b[39m=\u001b[39;49msample_weight,\n\u001b[1;32m   2106\u001b[0m         zero_division\u001b[39m=\u001b[39;49mzero_division,\n\u001b[1;32m   2107\u001b[0m     )\n\u001b[1;32m   2108\u001b[0m     \u001b[39mreturn\u001b[39;00m r\n",
      "File \u001b[0;32m/opt/conda/envs/galactica/lib/python3.11/site-packages/sklearn/metrics/_classification.py:1573\u001b[0m, in \u001b[0;36mprecision_recall_fscore_support\u001b[0;34m(y_true, y_pred, beta, labels, pos_label, average, warn_for, sample_weight, zero_division)\u001b[0m\n\u001b[1;32m   1571\u001b[0m \u001b[39mif\u001b[39;00m beta \u001b[39m<\u001b[39m \u001b[39m0\u001b[39m:\n\u001b[1;32m   1572\u001b[0m     \u001b[39mraise\u001b[39;00m \u001b[39mValueError\u001b[39;00m(\u001b[39m\"\u001b[39m\u001b[39mbeta should be >=0 in the F-beta score\u001b[39m\u001b[39m\"\u001b[39m)\n\u001b[0;32m-> 1573\u001b[0m labels \u001b[39m=\u001b[39m _check_set_wise_labels(y_true, y_pred, average, labels, pos_label)\n\u001b[1;32m   1575\u001b[0m \u001b[39m# Calculate tp_sum, pred_sum, true_sum ###\u001b[39;00m\n\u001b[1;32m   1576\u001b[0m samplewise \u001b[39m=\u001b[39m average \u001b[39m==\u001b[39m \u001b[39m\"\u001b[39m\u001b[39msamples\u001b[39m\u001b[39m\"\u001b[39m\n",
      "File \u001b[0;32m/opt/conda/envs/galactica/lib/python3.11/site-packages/sklearn/metrics/_classification.py:1391\u001b[0m, in \u001b[0;36m_check_set_wise_labels\u001b[0;34m(y_true, y_pred, average, labels, pos_label)\u001b[0m\n\u001b[1;32m   1389\u001b[0m         \u001b[39mif\u001b[39;00m y_type \u001b[39m==\u001b[39m \u001b[39m\"\u001b[39m\u001b[39mmulticlass\u001b[39m\u001b[39m\"\u001b[39m:\n\u001b[1;32m   1390\u001b[0m             average_options\u001b[39m.\u001b[39mremove(\u001b[39m\"\u001b[39m\u001b[39msamples\u001b[39m\u001b[39m\"\u001b[39m)\n\u001b[0;32m-> 1391\u001b[0m         \u001b[39mraise\u001b[39;00m \u001b[39mValueError\u001b[39;00m(\n\u001b[1;32m   1392\u001b[0m             \u001b[39m\"\u001b[39m\u001b[39mTarget is \u001b[39m\u001b[39m%s\u001b[39;00m\u001b[39m but average=\u001b[39m\u001b[39m'\u001b[39m\u001b[39mbinary\u001b[39m\u001b[39m'\u001b[39m\u001b[39m. Please \u001b[39m\u001b[39m\"\u001b[39m\n\u001b[1;32m   1393\u001b[0m             \u001b[39m\"\u001b[39m\u001b[39mchoose another average setting, one of \u001b[39m\u001b[39m%r\u001b[39;00m\u001b[39m.\u001b[39m\u001b[39m\"\u001b[39m \u001b[39m%\u001b[39m (y_type, average_options)\n\u001b[1;32m   1394\u001b[0m         )\n\u001b[1;32m   1395\u001b[0m \u001b[39melif\u001b[39;00m pos_label \u001b[39mnot\u001b[39;00m \u001b[39min\u001b[39;00m (\u001b[39mNone\u001b[39;00m, \u001b[39m1\u001b[39m):\n\u001b[1;32m   1396\u001b[0m     warnings\u001b[39m.\u001b[39mwarn(\n\u001b[1;32m   1397\u001b[0m         \u001b[39m\"\u001b[39m\u001b[39mNote that pos_label (set to \u001b[39m\u001b[39m%r\u001b[39;00m\u001b[39m) is ignored when \u001b[39m\u001b[39m\"\u001b[39m\n\u001b[1;32m   1398\u001b[0m         \u001b[39m\"\u001b[39m\u001b[39maverage != \u001b[39m\u001b[39m'\u001b[39m\u001b[39mbinary\u001b[39m\u001b[39m'\u001b[39m\u001b[39m (got \u001b[39m\u001b[39m%r\u001b[39;00m\u001b[39m). You may use \u001b[39m\u001b[39m\"\u001b[39m\n\u001b[0;32m   (...)\u001b[0m\n\u001b[1;32m   1401\u001b[0m         \u001b[39mUserWarning\u001b[39;00m,\n\u001b[1;32m   1402\u001b[0m     )\n",
      "\u001b[0;31mValueError\u001b[0m: Target is multiclass but average='binary'. Please choose another average setting, one of [None, 'micro', 'macro', 'weighted']."
     ]
    }
   ],
   "source": [
    "output = trainer.train()\n",
    "output"
   ]
  }
 ],
 "metadata": {
  "kernelspec": {
   "display_name": "galactica",
   "language": "python",
   "name": "python3"
  },
  "language_info": {
   "codemirror_mode": {
    "name": "ipython",
    "version": 3
   },
   "file_extension": ".py",
   "mimetype": "text/x-python",
   "name": "python",
   "nbconvert_exporter": "python",
   "pygments_lexer": "ipython3",
   "version": "3.11.3"
  },
  "orig_nbformat": 4
 },
 "nbformat": 4,
 "nbformat_minor": 2
}
