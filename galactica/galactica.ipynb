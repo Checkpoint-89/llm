{
 "cells": [
  {
   "cell_type": "code",
   "execution_count": 1,
   "metadata": {},
   "outputs": [
    {
     "name": "stderr",
     "output_type": "stream",
     "text": [
      "/opt/conda/envs/galactica/lib/python3.11/site-packages/tqdm/auto.py:21: TqdmWarning: IProgress not found. Please update jupyter and ipywidgets. See https://ipywidgets.readthedocs.io/en/stable/user_install.html\n",
      "  from .autonotebook import tqdm as notebook_tqdm\n"
     ]
    }
   ],
   "source": [
    "# Imports\n",
    "from importlib import reload\n",
    "import os\n",
    "import time\n",
    "import shutil\n",
    "from pathlib import Path\n",
    "import numpy as np\n",
    "import torch\n",
    "from datasets import load_from_disk, Dataset, DatasetDict\n",
    "from transformers import AutoTokenizer\n",
    "from transformers import AutoConfig\n",
    "from transformers import DataCollatorWithPadding\n",
    "from transformers import TrainingArguments\n",
    "from transformers import Trainer\n",
    "from accelerate import init_empty_weights, load_checkpoint_and_dispatch\n",
    "import evaluate\n",
    "\n",
    "import src.setup\n",
    "reload(src.setup)\n",
    "from src.setup import path_to_orig_data, path_to_raw_data, path_to_tokenized_data\n",
    "from src.setup import path_to_state_dict, path_to_training_dir\n",
    "from src.setup import device\n",
    "from src.setup import clear_raw_data\n",
    "from src.setup import do_preprocess_orig_data, subset_ratio, do_tokenize_data\n",
    "from src.setup import test_size, valid_size\n",
    "from src.setup import ModelClass, checkpoint, num_hidden_layers\n",
    "from src.setup import transformer_head_name, transformer_max_seq_length\n",
    "from src.setup import training_arguments_kw\n",
    "import src.preprocess_data\n",
    "reload(src.preprocess_data)\n",
    "from src.preprocess_data import preprocess_orig_data"
   ]
  },
  {
   "attachments": {},
   "cell_type": "markdown",
   "metadata": {},
   "source": [
    "#### Preprocess the data to Datasets"
   ]
  },
  {
   "cell_type": "code",
   "execution_count": 2,
   "metadata": {},
   "outputs": [
    {
     "name": "stdout",
     "output_type": "stream",
     "text": [
      "Processed data available in the file: /home/cedric.dietzi/projects/galactica/data/raw_applications.json\n"
     ]
    }
   ],
   "source": [
    "# Preprocess the data to get raw data into /galactica/data\n",
    "if do_preprocess_orig_data == True:\n",
    "    preprocess_orig_data(str(path_to_orig_data), \n",
    "                         str(path_to_raw_data), \n",
    "                         test_size=test_size,\n",
    "                         valid_size=valid_size,\n",
    "                         clear=clear_raw_data)\n",
    "    \n",
    "print(f\"Processed data available in the file: {path_to_raw_data}\")"
   ]
  },
  {
   "attachments": {},
   "cell_type": "markdown",
   "metadata": {},
   "source": [
    "#### Load the data, model, tokenizer and tokenize"
   ]
  },
  {
   "cell_type": "code",
   "execution_count": 3,
   "metadata": {},
   "outputs": [
    {
     "name": "stderr",
     "output_type": "stream",
     "text": [
      "Loading cached shuffled indices for dataset at /home/cedric.dietzi/projects/galactica/data/raw_applications.json/train/cache-3565d5e63d291982.arrow\n",
      "Loading cached shuffled indices for dataset at /home/cedric.dietzi/projects/galactica/data/raw_applications.json/test/cache-94751cb814f39085.arrow\n",
      "Loading cached shuffled indices for dataset at /home/cedric.dietzi/projects/galactica/data/raw_applications.json/validation/cache-8a27f18eb0a49e1c.arrow\n"
     ]
    },
    {
     "name": "stdout",
     "output_type": "stream",
     "text": [
      "\n",
      "**************************************************\n",
      "Loading the datasets\n",
      "\n",
      "Datasets loaded:  DatasetDict({\n",
      "    train: Dataset({\n",
      "        features: ['_labels', 'id', 'title', 'text', 'labels'],\n",
      "        num_rows: 96044\n",
      "    })\n",
      "    test: Dataset({\n",
      "        features: ['_labels', 'id', 'title', 'text', 'labels'],\n",
      "        num_rows: 12005\n",
      "    })\n",
      "    validation: Dataset({\n",
      "        features: ['_labels', 'id', 'title', 'text', 'labels'],\n",
      "        num_rows: 12006\n",
      "    })\n",
      "})\n",
      "\n",
      "**************************************************\n",
      "Sampling the datasets\n",
      "\n",
      "Datasets sampled:  DatasetDict({\n",
      "    train: Dataset({\n",
      "        features: ['_labels', 'id', 'title', 'text', 'labels'],\n",
      "        num_rows: 28813\n",
      "    })\n",
      "    test: Dataset({\n",
      "        features: ['_labels', 'id', 'title', 'text', 'labels'],\n",
      "        num_rows: 1200\n",
      "    })\n",
      "    validation: Dataset({\n",
      "        features: ['_labels', 'id', 'title', 'text', 'labels'],\n",
      "        num_rows: 1200\n",
      "    })\n",
      "})\n",
      "\n",
      "**************************************************\n",
      "Number of labels:  8\n",
      "\n",
      "**************************************************\n",
      "Instantiating the model\n"
     ]
    },
    {
     "name": "stderr",
     "output_type": "stream",
     "text": [
      "Some weights of the model checkpoint at facebook/galactica-125m were not used when initializing OPTForSequenceClassification: ['lm_head.weight']\n",
      "- This IS expected if you are initializing OPTForSequenceClassification from the checkpoint of a model trained on another task or with another architecture (e.g. initializing a BertForSequenceClassification model from a BertForPreTraining model).\n",
      "- This IS NOT expected if you are initializing OPTForSequenceClassification from the checkpoint of a model that you expect to be exactly identical (initializing a BertForSequenceClassification model from a BertForSequenceClassification model).\n",
      "Some weights of OPTForSequenceClassification were not initialized from the model checkpoint at facebook/galactica-125m and are newly initialized: ['score.weight']\n",
      "You should probably TRAIN this model on a down-stream task to be able to use it for predictions and inference.\n"
     ]
    },
    {
     "name": "stdout",
     "output_type": "stream",
     "text": [
      "\n",
      "Model instantiated\n",
      "\n",
      "**************************************************\n",
      "Freezing the parameters\n",
      "\n",
      "Parameters frozen\n",
      "\n",
      "**************************************************\n",
      "Instantiating the tokenizer\n"
     ]
    },
    {
     "name": "stderr",
     "output_type": "stream",
     "text": [
      "Loading cached processed dataset at /home/cedric.dietzi/projects/galactica/data/raw_applications.json/train/cache-eec5480444058ac5.arrow\n",
      "Loading cached processed dataset at /home/cedric.dietzi/projects/galactica/data/raw_applications.json/test/cache-f23d63a1565388ba.arrow\n",
      "Loading cached processed dataset at /home/cedric.dietzi/projects/galactica/data/raw_applications.json/validation/cache-58f8e73ee0a5b4da.arrow\n"
     ]
    },
    {
     "name": "stdout",
     "output_type": "stream",
     "text": [
      "\n",
      "Tokenizer instantiated\n",
      "\n",
      "**************************************************\n",
      "Tokenizing the datasets\n",
      "\n",
      "Datasets tokenized:  DatasetDict({\n",
      "    train: Dataset({\n",
      "        features: ['_labels', 'id', 'title', 'text', 'labels', 'input_ids', 'token_type_ids', 'attention_mask'],\n",
      "        num_rows: 28813\n",
      "    })\n",
      "    test: Dataset({\n",
      "        features: ['_labels', 'id', 'title', 'text', 'labels', 'input_ids', 'token_type_ids', 'attention_mask'],\n",
      "        num_rows: 1200\n",
      "    })\n",
      "    validation: Dataset({\n",
      "        features: ['_labels', 'id', 'title', 'text', 'labels', 'input_ids', 'token_type_ids', 'attention_mask'],\n",
      "        num_rows: 1200\n",
      "    })\n",
      "})\n",
      "\n",
      "**************************************************\n",
      "Saving the datasets\n"
     ]
    },
    {
     "name": "stderr",
     "output_type": "stream",
     "text": [
      "                                                                                                 "
     ]
    },
    {
     "name": "stdout",
     "output_type": "stream",
     "text": [
      "\n",
      "Datasets available in :/home/cedric.dietzi/projects/galactica/data/tokenized_applications.json\n"
     ]
    },
    {
     "name": "stderr",
     "output_type": "stream",
     "text": [
      "\r"
     ]
    }
   ],
   "source": [
    "# Load the dataset\n",
    "print('\\n' + '*'*50)\n",
    "print(\"Loading the datasets\")\n",
    "raw_datasets = load_from_disk(str(path_to_raw_data))\n",
    "print(\"\\nDatasets loaded: \", raw_datasets)\n",
    "\n",
    "# Take a subset of raw_dataset\n",
    "print('\\n' + '*'*50)\n",
    "print(\"Sampling the datasets\")\n",
    "for split in raw_datasets:\n",
    "    subset_size = int(len(raw_datasets[split]) * subset_ratio[split])\n",
    "    raw_datasets[split] = raw_datasets[split].shuffle(seed=42).select(range(subset_size))\n",
    "print(\"\\nDatasets sampled: \", raw_datasets)\n",
    "\n",
    "# Get the number of labels\n",
    "num_labels = len(raw_datasets['train'].features['labels'].names)\n",
    "print('\\n' + '*'*50)\n",
    "print(\"Number of labels: \", num_labels)\n",
    "\n",
    "# Load the Model\n",
    "print('\\n' + '*'*50)\n",
    "print(\"Instantiating the model\")\n",
    "model = ModelClass.from_pretrained(checkpoint, num_labels=num_labels, num_hidden_layers=num_hidden_layers)\n",
    "if device.type == 'cuda':\n",
    "    #TODO: understand how to simplify this instantiation\n",
    "    state_dict = model.state_dict()\n",
    "    torch.save(state_dict, str(path_to_state_dict))\n",
    "    config = AutoConfig.from_pretrained(checkpoint, num_labels=num_labels, num_hidden_layers=num_hidden_layers)\n",
    "    with init_empty_weights():\n",
    "        model = ModelClass._from_config(config)\n",
    "    model.tie_weights()\n",
    "    no_split_module_classes = None #List of modules with any residual connection of some kind\n",
    "    model = load_checkpoint_and_dispatch(model, str(path_to_state_dict), device_map=\"auto\", no_split_module_classes=no_split_module_classes)\n",
    "print(\"\\nModel instantiated\")\n",
    "\n",
    "# Freeze the model but the last layer\n",
    "print('\\n' + '*'*50)\n",
    "print(\"Freezing the parameters\")\n",
    "for param in model.named_parameters():\n",
    "    if param[0] != transformer_head_name:\n",
    "        param[1].requires_grad = False\n",
    "print(\"\\nParameters frozen\")\n",
    "\n",
    "# Load the Tokenizer\n",
    "print('\\n' + '*'*50)\n",
    "print(\"Instantiating the tokenizer\")\n",
    "tokenizer = AutoTokenizer.from_pretrained(checkpoint, use_fast=False)\n",
    "id2label = {i: label for label, i in tokenizer.vocab.items()}\n",
    "pad_token_id = model.config.pad_token_id\n",
    "tokenizer.add_special_tokens({'pad_token': id2label[pad_token_id]})\n",
    "print(\"\\nTokenizer instantiated\")\n",
    "\n",
    "if do_tokenize_data:\n",
    "    # Tokenizing the Dataset\n",
    "    print('\\n' + '*'*50)\n",
    "    print(\"Tokenizing the datasets\")\n",
    "    def tokenize_function(sequences):\n",
    "        return tokenizer(sequences['text'], max_length=transformer_max_seq_length, truncation=True)\n",
    "    tokenized_datasets = raw_datasets.map(tokenize_function , batched=True)\n",
    "    print(\"\\nDatasets tokenized: \", tokenized_datasets)\n",
    "\n",
    "    # Save the datasets to disk\n",
    "    print('\\n' + '*'*50)\n",
    "    print(\"Saving the datasets\")\n",
    "    tokenized_datasets.save_to_disk(path_to_tokenized_data)\n",
    "\n",
    "print(f\"\\nDatasets available in :{path_to_tokenized_data}\")\n",
    "if raw_datasets:\n",
    "    del(raw_datasets)\n",
    "if tokenized_datasets:\n",
    "    del(tokenized_datasets)"
   ]
  },
  {
   "attachments": {},
   "cell_type": "markdown",
   "metadata": {},
   "source": [
    "#### Define the training parameters"
   ]
  },
  {
   "cell_type": "code",
   "execution_count": 4,
   "metadata": {},
   "outputs": [
    {
     "name": "stdout",
     "output_type": "stream",
     "text": [
      "\n",
      "**************************************************\n",
      "Loading the datasets\n",
      "\n",
      "Datasets loaded:  DatasetDict({\n",
      "    train: Dataset({\n",
      "        features: ['_labels', 'id', 'title', 'text', 'labels', 'input_ids', 'token_type_ids', 'attention_mask'],\n",
      "        num_rows: 28813\n",
      "    })\n",
      "    test: Dataset({\n",
      "        features: ['_labels', 'id', 'title', 'text', 'labels', 'input_ids', 'token_type_ids', 'attention_mask'],\n",
      "        num_rows: 1200\n",
      "    })\n",
      "    validation: Dataset({\n",
      "        features: ['_labels', 'id', 'title', 'text', 'labels', 'input_ids', 'token_type_ids', 'attention_mask'],\n",
      "        num_rows: 1200\n",
      "    })\n",
      "})\n",
      "\n",
      "**************************************************\n",
      "Instantiating the DataCollator\n",
      "\n",
      "DataCollator instantiated\n",
      "\n",
      "**************************************************\n",
      "Instantiating TrainingArguments\n",
      "\n",
      "TrainingArguments instantiated\n",
      "\n",
      "**************************************************\n",
      "Cleaning memory\n",
      "\n",
      "Cleaning done\n",
      "\n",
      "**************************************************\n",
      "Define the evaluation metrics\n",
      "\n",
      "Evaluation metrics defined\n",
      "\n",
      "**************************************************\n",
      "Instantiate the Trainer\n",
      "\n",
      "Trainer instantiated\n"
     ]
    }
   ],
   "source": [
    "# Load the dataset\n",
    "print('\\n' + '*'*50)\n",
    "print(\"Loading the datasets\")\n",
    "tokenized_datasets = load_from_disk(str(path_to_tokenized_data))\n",
    "print(\"\\nDatasets loaded: \", tokenized_datasets)\n",
    "\n",
    "# Define the data collator\n",
    "print('\\n' + '*'*50)\n",
    "print(\"Instantiating the DataCollator\")\n",
    "data_collator = DataCollatorWithPadding(tokenizer=tokenizer)\n",
    "print(\"\\nDataCollator instantiated\")\n",
    "\n",
    "# Define the TrainingArguments and Trainer\n",
    "print('\\n' + '*'*50)\n",
    "print(\"Instantiating TrainingArguments\")\n",
    "output_dir = Path(path_to_training_dir, time.strftime(\"%Y-%m-%d_%H:%m:%S\"))\n",
    "training_args = TrainingArguments(\n",
    "    output_dir = str(output_dir),\n",
    "    **training_arguments_kw)\n",
    "print(\"\\nTrainingArguments instantiated\")\n",
    "\n",
    "# Cleaning\n",
    "print('\\n' + '*'*50)\n",
    "print(\"Cleaning memory\")\n",
    "import gc\n",
    "gc.collect()\n",
    "\n",
    "import torch\n",
    "torch.cuda.empty_cache()\n",
    "print(\"\\nCleaning done\")\n",
    "\n",
    "# Define the evaluation computation\n",
    "print('\\n' + '*'*50)\n",
    "print(\"Define the evaluation metrics\")\n",
    "def compute_metrics(eval_pred, average = 'weighted'):\n",
    "\n",
    "    accuracy_metric = evaluate.load('accuracy')\n",
    "    f1_metric = evaluate.load('f1')\n",
    "    precision_metric = evaluate.load('precision')\n",
    "    recall_metric = evaluate.load('recall')\n",
    "    logits, labels = eval_pred\n",
    "\n",
    "    # TODO: recheck axis = -\n",
    "    preds = np.argmax(logits, axis = -1)\n",
    "\n",
    "    results = {}\n",
    "    results.update(accuracy_metric.compute(predictions=preds, references=labels))\n",
    "    results.update(f1_metric.compute(predictions=preds, references=labels, average=average))\n",
    "    results.update(precision_metric.compute(predictions=preds, references=labels, average=average))\n",
    "    results.update(recall_metric.compute(predictions=preds, references=labels, average=average))\n",
    "\n",
    "    return results \n",
    "print(\"\\nEvaluation metrics defined\")\n",
    "\n",
    "# Instantiate the Trainer\n",
    "print('\\n' + '*'*50)\n",
    "print(\"Instantiate the Trainer\")\n",
    "trainer = Trainer(\n",
    "    model=model,\n",
    "    args=training_args,\n",
    "    train_dataset=tokenized_datasets[\"train\"],\n",
    "    eval_dataset=tokenized_datasets[\"validation\"],\n",
    "    data_collator=data_collator,\n",
    "    tokenizer=tokenizer,\n",
    "    compute_metrics=compute_metrics,\n",
    ")\n",
    "\n",
    "print(\"\\nTrainer instantiated\")"
   ]
  },
  {
   "attachments": {},
   "cell_type": "markdown",
   "metadata": {},
   "source": [
    "#### Train"
   ]
  },
  {
   "cell_type": "code",
   "execution_count": null,
   "metadata": {},
   "outputs": [],
   "source": [
    "output = trainer.train()\n",
    "output"
   ]
  },
  {
   "cell_type": "code",
   "execution_count": null,
   "metadata": {},
   "outputs": [],
   "source": [
    "# tensorboard dev upload --logdir galactica/test-trainer/....."
   ]
  }
 ],
 "metadata": {
  "kernelspec": {
   "display_name": "galactica",
   "language": "python",
   "name": "python3"
  },
  "language_info": {
   "codemirror_mode": {
    "name": "ipython",
    "version": 3
   },
   "file_extension": ".py",
   "mimetype": "text/x-python",
   "name": "python",
   "nbconvert_exporter": "python",
   "pygments_lexer": "ipython3",
   "version": "3.11.3"
  },
  "orig_nbformat": 4
 },
 "nbformat": 4,
 "nbformat_minor": 2
}
