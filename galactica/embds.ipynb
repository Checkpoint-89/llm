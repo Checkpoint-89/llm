{
 "cells": [
  {
   "cell_type": "code",
   "execution_count": 9,
   "metadata": {},
   "outputs": [],
   "source": [
    "from datasets import load_from_disk\n",
    "from transformers import OPTForCausalLM, AutoTokenizer, DataCollatorWithPadding"
   ]
  },
  {
   "cell_type": "code",
   "execution_count": 10,
   "metadata": {},
   "outputs": [
    {
     "name": "stderr",
     "output_type": "stream",
     "text": [
      "Some weights of the model checkpoint at checkpoint-14336 were not used when initializing OPTForCausalLM: ['score.weight']\n",
      "- This IS expected if you are initializing OPTForCausalLM from the checkpoint of a model trained on another task or with another architecture (e.g. initializing a BertForSequenceClassification model from a BertForPreTraining model).\n",
      "- This IS NOT expected if you are initializing OPTForCausalLM from the checkpoint of a model that you expect to be exactly identical (initializing a BertForSequenceClassification model from a BertForSequenceClassification model).\n"
     ]
    }
   ],
   "source": [
    "datasets = load_from_disk(r'data/galactica-125m/tokenized_applications.json')\n",
    "checkpoint = 'checkpoint-14336'\n",
    "model = OPTForCausalLM.from_pretrained('checkpoint-14336').base_model\n",
    "tokenizer = AutoTokenizer.from_pretrained('checkpoint-14336')\n",
    "data_collator = DataCollatorWithPadding(tokenizer=tokenizer)"
   ]
  },
  {
   "cell_type": "code",
   "execution_count": 11,
   "metadata": {},
   "outputs": [],
   "source": [
    "testset = datasets['test']\n",
    "testset_ = testset.remove_columns(['_labels', 'id', 'title', 'text', 'token_type_ids', 'labels'])\n",
    "testset_.set_format(\"torch\")"
   ]
  },
  {
   "cell_type": "code",
   "execution_count": 12,
   "metadata": {},
   "outputs": [
    {
     "name": "stderr",
     "output_type": "stream",
     "text": [
      "You're using a PreTrainedTokenizerFast tokenizer. Please note that with a fast tokenizer, using the `__call__` method is faster than using a method to encode the text followed by a call to the `pad` method to get a padded encoding.\n"
     ]
    }
   ],
   "source": [
    "embds = {'embds': [], 'labels': []}\n",
    "batch_size = 64\n",
    "\n",
    "for i in range(len(testset_)//batch_size):\n",
    "    batch = testset_[i*batch_size:(i+1)*batch_size]\n",
    "    labels = testset[i*batch_size:(i+1)*batch_size]['labels']\n",
    "    batch = data_collator(batch)\n",
    "    outputs = model(**batch)\n",
    "    embds['embds'].append(outputs.last_hidden_state.mean(dim=1))\n",
    "    embds['labels'].append(labels)"
   ]
  },
  {
   "cell_type": "code",
   "execution_count": null,
   "metadata": {},
   "outputs": [],
   "source": []
  }
 ],
 "metadata": {
  "kernelspec": {
   "display_name": "galactica",
   "language": "python",
   "name": "python3"
  },
  "language_info": {
   "codemirror_mode": {
    "name": "ipython",
    "version": 3
   },
   "file_extension": ".py",
   "mimetype": "text/x-python",
   "name": "python",
   "nbconvert_exporter": "python",
   "pygments_lexer": "ipython3",
   "version": "3.10.11"
  },
  "orig_nbformat": 4
 },
 "nbformat": 4,
 "nbformat_minor": 2
}
