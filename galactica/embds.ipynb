{
 "cells": [
  {
   "cell_type": "code",
   "execution_count": 1,
   "metadata": {},
   "outputs": [
    {
     "name": "stderr",
     "output_type": "stream",
     "text": [
      "/opt/conda/envs/galactica/lib/python3.11/site-packages/tqdm/auto.py:21: TqdmWarning: IProgress not found. Please update jupyter and ipywidgets. See https://ipywidgets.readthedocs.io/en/stable/user_install.html\n",
      "  from .autonotebook import tqdm as notebook_tqdm\n"
     ]
    }
   ],
   "source": [
    "import gc\n",
    "from tqdm.auto import tqdm\n",
    "\n",
    "from pathlib import Path\n",
    "\n",
    "import torch\n",
    "from torch.utils.data import DataLoader\n",
    "from datasets import load_from_disk\n",
    "from transformers import OPTForCausalLM, AutoTokenizer, DataCollatorWithPadding"
   ]
  },
  {
   "cell_type": "code",
   "execution_count": 2,
   "metadata": {},
   "outputs": [
    {
     "data": {
      "text/plain": [
       "device(type='cuda')"
      ]
     },
     "execution_count": 2,
     "metadata": {},
     "output_type": "execute_result"
    }
   ],
   "source": [
    "device = torch.device(\"cuda\") if torch.cuda.is_available() else torch.device(\"cpu\")\n",
    "device"
   ]
  },
  {
   "cell_type": "code",
   "execution_count": 3,
   "metadata": {},
   "outputs": [
    {
     "name": "stderr",
     "output_type": "stream",
     "text": [
      "Some weights of the model checkpoint at /home/cedric.dietzi/projects/galactica/test-trainer/output_dir/facebook/galactica-125m/applications/Jun16_20-19-30_instance-1/checkpoint-14336 were not used when initializing OPTForCausalLM: ['score.weight']\n",
      "- This IS expected if you are initializing OPTForCausalLM from the checkpoint of a model trained on another task or with another architecture (e.g. initializing a BertForSequenceClassification model from a BertForPreTraining model).\n",
      "- This IS NOT expected if you are initializing OPTForCausalLM from the checkpoint of a model that you expect to be exactly identical (initializing a BertForSequenceClassification model from a BertForSequenceClassification model).\n"
     ]
    }
   ],
   "source": [
    "datasets = load_from_disk(r'data/galactica-125m/tokenized_applications.json')\n",
    "checkpoint = r'/home/cedric.dietzi/projects/galactica/test-trainer/output_dir/facebook/galactica-125m/applications/Jun16_20-19-30_instance-1/checkpoint-14336'\n",
    "\n",
    "model = OPTForCausalLM.from_pretrained(checkpoint, device_map=\"auto\").base_model\n",
    "model.to(device)\n",
    "\n",
    "tokenizer = AutoTokenizer.from_pretrained(checkpoint)"
   ]
  },
  {
   "cell_type": "code",
   "execution_count": 4,
   "metadata": {},
   "outputs": [
    {
     "name": "stderr",
     "output_type": "stream",
     "text": [
      "  0%|          | 0/12005 [00:00<?, ?it/s]You're using a PreTrainedTokenizerFast tokenizer. Please note that with a fast tokenizer, using the `__call__` method is faster than using a method to encode the text followed by a call to the `pad` method to get a padded encoding.\n",
      "100%|██████████| 12005/12005 [04:41<00:00, 38.16it/s]"
     ]
    }
   ],
   "source": [
    "from torch.utils.tensorboard import SummaryWriter\n",
    "logging_dir = Path('test-trainer/embds')\n",
    "tensors_file = Path(logging_dir, 'tensors.tsv')\n",
    "metadata_file = Path(logging_dir, 'metadata.tsv')\n",
    "\n",
    "\n",
    "tb_writer = SummaryWriter(logging_dir)\n",
    "\n",
    "testset = datasets['test']  #.select(range(64))\n",
    "testset = testset.remove_columns(['_labels', 'id', 'title', 'text', 'token_type_ids'])\n",
    "testset.set_format(\"torch\")\n",
    "\n",
    "batch_size = 1\n",
    "data_collator = DataCollatorWithPadding(tokenizer=tokenizer)\n",
    "dataloader = DataLoader(testset, shuffle=False, batch_size=batch_size, collate_fn=data_collator)\n",
    "\n",
    "num_steps = len(testset) // batch_size\n",
    "progress_bar = tqdm(range(num_steps))\n",
    "\n",
    "# Cleaning\n",
    "gc.collect()\n",
    "torch.cuda.empty_cache()\n",
    "\n",
    "tensors_f = open(tensors_file, 'w')\n",
    "metadata_f = open(metadata_file, 'w')\n",
    "\n",
    "for i, batch in enumerate(dataloader):\n",
    "\n",
    "    _batch = {k: v.to(device) for k, v in batch.items() if k != 'labels'}\n",
    "    outputs = model(**_batch)\n",
    "    #outputs = outputs['last_hidden_state'].mean(dim=1)\n",
    "    outputs = outputs['last_hidden_state'][:,-1,:]\n",
    "    #del _batch\n",
    " \n",
    "    for embd in outputs:\n",
    "        embd = [str(e) for e in embd.tolist()]\n",
    "        embd = '\\t'.join(embd)\n",
    "        tensors_f.write(embd + '\\n')\n",
    "        #del embd\n",
    "    #del outputs\n",
    "\n",
    "    _batch = {k: v.to(device) for k, v in batch.items() if k == 'labels'}\n",
    "    for meta in batch['labels']:\n",
    "        meta = str(int(meta))\n",
    "        metadata_f.write(meta + '\\n')\n",
    "        #del meta\n",
    "    #del _batch\n",
    "    \n",
    "    # gc.collect()\n",
    "    # torch.cuda.empty_cache()\n",
    "    \n",
    "    progress_bar.update(1)\n",
    "\n",
    "tensors_f.close()\n",
    "metadata_f.close()"
   ]
  },
  {
   "cell_type": "code",
   "execution_count": null,
   "metadata": {},
   "outputs": [],
   "source": []
  }
 ],
 "metadata": {
  "kernelspec": {
   "display_name": "galactica",
   "language": "python",
   "name": "python3"
  },
  "language_info": {
   "codemirror_mode": {
    "name": "ipython",
    "version": 3
   },
   "file_extension": ".py",
   "mimetype": "text/x-python",
   "name": "python",
   "nbconvert_exporter": "python",
   "pygments_lexer": "ipython3",
   "version": "3.11.3"
  },
  "orig_nbformat": 4
 },
 "nbformat": 4,
 "nbformat_minor": 2
}
